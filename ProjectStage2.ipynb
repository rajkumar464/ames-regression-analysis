{
  "nbformat": 4,
  "nbformat_minor": 0,
  "metadata": {
    "colab": {
      "provenance": []
    },
    "kernelspec": {
      "name": "python3",
      "display_name": "Python 3"
    },
    "language_info": {
      "name": "python"
    }
  },
  "cells": [
    {
      "cell_type": "markdown",
      "source": [
        "#Group Members : Raj Kumar"
      ],
      "metadata": {
        "id": "Ud31EKm68Ds0"
      }
    },
    {
      "cell_type": "markdown",
      "source": [
        "#Problem Formulation \n",
        "#####We've been given 79 variables that influence the price of houses in Ames, Iowa. A higher price is understood as highly desirable by potential buyers. Many of these variables however are not traditional ones thought of by buyers such as proximity to an east-west railroad. \n",
        "#####The objective of the problem I have formulated is to identify the variables that contribute most to the final price of a house as well as predicting the final price given the variables."
      ],
      "metadata": {
        "id": "Ocs8tQfm8u8C"
      }
    },
    {
      "cell_type": "markdown",
      "source": [
        "#Data Population \n",
        "#####I am using the Ames Housing dataset compiled by Dean De Cock which contains these 79 explanatory variables along with the final price (our target variable).\n",
        "#####The data population is the houses whose prices are to be predicted. The sample we have been given is not the same but is historic information of houses sold in the past. But we may be able to say that it is representative assuming no factors have changed between the time the data was collected and the time we are predicting the prices of the houses."
      ],
      "metadata": {
        "id": "HElA1PPlanLE"
      }
    },
    {
      "cell_type": "markdown",
      "source": [
        "#Account Name : bayesgod"
      ],
      "metadata": {
        "id": "4Fxbuftz4rrh"
      }
    },
    {
      "cell_type": "markdown",
      "source": [
        "#Loading Data"
      ],
      "metadata": {
        "id": "I5gmeRCS49KA"
      }
    },
    {
      "cell_type": "code",
      "source": [
        "import pandas as pd\n",
        "import matplotlib.pyplot as plt\n",
        "import seaborn as sns\n",
        "import numpy as np\n",
        "from scipy.stats import norm\n",
        "from sklearn.preprocessing import StandardScaler\n",
        "from scipy import stats\n",
        "import warnings\n",
        "warnings.filterwarnings('ignore')\n",
        "%matplotlib inline"
      ],
      "metadata": {
        "id": "aZuWEGQMMj6R"
      },
      "execution_count": 81,
      "outputs": []
    },
    {
      "cell_type": "code",
      "source": [
        "from google.colab import drive\n",
        "drive.mount('/content/drive')"
      ],
      "metadata": {
        "colab": {
          "base_uri": "https://localhost:8080/"
        },
        "id": "DDH969GBt9Q-",
        "outputId": "210824c8-3bea-4cdb-e10a-f1484b4f29d0"
      },
      "execution_count": 82,
      "outputs": [
        {
          "output_type": "stream",
          "name": "stdout",
          "text": [
            "Drive already mounted at /content/drive; to attempt to forcibly remount, call drive.mount(\"/content/drive\", force_remount=True).\n"
          ]
        }
      ]
    },
    {
      "cell_type": "code",
      "source": [
        "import os\n",
        "os.chdir('/content/drive/MyDrive/house-prices-advanced-regression-techniques')"
      ],
      "metadata": {
        "id": "74l4MzkLuW_B"
      },
      "execution_count": 83,
      "outputs": []
    },
    {
      "cell_type": "code",
      "source": [
        "!ls"
      ],
      "metadata": {
        "colab": {
          "base_uri": "https://localhost:8080/"
        },
        "id": "iX-6nJE5uf5p",
        "outputId": "ffc945ad-9290-4d9a-c641-290af87f8b70"
      },
      "execution_count": 84,
      "outputs": [
        {
          "output_type": "stream",
          "name": "stdout",
          "text": [
            "data_description.txt  sample_submission.csv  train.csv\n",
            "first_submission.png  second_submission.png  xgbr_vanilla.csv\n",
            "lin_reg_vanilla.csv   test.csv\n"
          ]
        }
      ]
    },
    {
      "cell_type": "markdown",
      "source": [
        "#Description of data"
      ],
      "metadata": {
        "id": "40F9lk0ewKWV"
      }
    },
    {
      "cell_type": "code",
      "source": [
        "#text file explaining the meaning of the variables in the data\n",
        "with open('data_description.txt') as f:\n",
        "    lines = f.readlines()\n",
        "lines"
      ],
      "metadata": {
        "colab": {
          "base_uri": "https://localhost:8080/"
        },
        "id": "lW37b7gIvMlC",
        "outputId": "18f02943-e383-4b1a-b168-b0756c038959"
      },
      "execution_count": 85,
      "outputs": [
        {
          "output_type": "execute_result",
          "data": {
            "text/plain": [
              "['MSSubClass: Identifies the type of dwelling involved in the sale.\\t\\n',\n",
              " '\\n',\n",
              " '        20\\t1-STORY 1946 & NEWER ALL STYLES\\n',\n",
              " '        30\\t1-STORY 1945 & OLDER\\n',\n",
              " '        40\\t1-STORY W/FINISHED ATTIC ALL AGES\\n',\n",
              " '        45\\t1-1/2 STORY - UNFINISHED ALL AGES\\n',\n",
              " '        50\\t1-1/2 STORY FINISHED ALL AGES\\n',\n",
              " '        60\\t2-STORY 1946 & NEWER\\n',\n",
              " '        70\\t2-STORY 1945 & OLDER\\n',\n",
              " '        75\\t2-1/2 STORY ALL AGES\\n',\n",
              " '        80\\tSPLIT OR MULTI-LEVEL\\n',\n",
              " '        85\\tSPLIT FOYER\\n',\n",
              " '        90\\tDUPLEX - ALL STYLES AND AGES\\n',\n",
              " '       120\\t1-STORY PUD (Planned Unit Development) - 1946 & NEWER\\n',\n",
              " '       150\\t1-1/2 STORY PUD - ALL AGES\\n',\n",
              " '       160\\t2-STORY PUD - 1946 & NEWER\\n',\n",
              " '       180\\tPUD - MULTILEVEL - INCL SPLIT LEV/FOYER\\n',\n",
              " '       190\\t2 FAMILY CONVERSION - ALL STYLES AND AGES\\n',\n",
              " '\\n',\n",
              " 'MSZoning: Identifies the general zoning classification of the sale.\\n',\n",
              " '\\t\\t\\n',\n",
              " '       A\\tAgriculture\\n',\n",
              " '       C\\tCommercial\\n',\n",
              " '       FV\\tFloating Village Residential\\n',\n",
              " '       I\\tIndustrial\\n',\n",
              " '       RH\\tResidential High Density\\n',\n",
              " '       RL\\tResidential Low Density\\n',\n",
              " '       RP\\tResidential Low Density Park \\n',\n",
              " '       RM\\tResidential Medium Density\\n',\n",
              " '\\t\\n',\n",
              " 'LotFrontage: Linear feet of street connected to property\\n',\n",
              " '\\n',\n",
              " 'LotArea: Lot size in square feet\\n',\n",
              " '\\n',\n",
              " 'Street: Type of road access to property\\n',\n",
              " '\\n',\n",
              " '       Grvl\\tGravel\\t\\n',\n",
              " '       Pave\\tPaved\\n',\n",
              " '       \\t\\n',\n",
              " 'Alley: Type of alley access to property\\n',\n",
              " '\\n',\n",
              " '       Grvl\\tGravel\\n',\n",
              " '       Pave\\tPaved\\n',\n",
              " '       NA \\tNo alley access\\n',\n",
              " '\\t\\t\\n',\n",
              " 'LotShape: General shape of property\\n',\n",
              " '\\n',\n",
              " '       Reg\\tRegular\\t\\n',\n",
              " '       IR1\\tSlightly irregular\\n',\n",
              " '       IR2\\tModerately Irregular\\n',\n",
              " '       IR3\\tIrregular\\n',\n",
              " '       \\n',\n",
              " 'LandContour: Flatness of the property\\n',\n",
              " '\\n',\n",
              " '       Lvl\\tNear Flat/Level\\t\\n',\n",
              " '       Bnk\\tBanked - Quick and significant rise from street grade to building\\n',\n",
              " '       HLS\\tHillside - Significant slope from side to side\\n',\n",
              " '       Low\\tDepression\\n',\n",
              " '\\t\\t\\n',\n",
              " 'Utilities: Type of utilities available\\n',\n",
              " '\\t\\t\\n',\n",
              " '       AllPub\\tAll public Utilities (E,G,W,& S)\\t\\n',\n",
              " '       NoSewr\\tElectricity, Gas, and Water (Septic Tank)\\n',\n",
              " '       NoSeWa\\tElectricity and Gas Only\\n',\n",
              " '       ELO\\tElectricity only\\t\\n',\n",
              " '\\t\\n',\n",
              " 'LotConfig: Lot configuration\\n',\n",
              " '\\n',\n",
              " '       Inside\\tInside lot\\n',\n",
              " '       Corner\\tCorner lot\\n',\n",
              " '       CulDSac\\tCul-de-sac\\n',\n",
              " '       FR2\\tFrontage on 2 sides of property\\n',\n",
              " '       FR3\\tFrontage on 3 sides of property\\n',\n",
              " '\\t\\n',\n",
              " 'LandSlope: Slope of property\\n',\n",
              " '\\t\\t\\n',\n",
              " '       Gtl\\tGentle slope\\n',\n",
              " '       Mod\\tModerate Slope\\t\\n',\n",
              " '       Sev\\tSevere Slope\\n',\n",
              " '\\t\\n',\n",
              " 'Neighborhood: Physical locations within Ames city limits\\n',\n",
              " '\\n',\n",
              " '       Blmngtn\\tBloomington Heights\\n',\n",
              " '       Blueste\\tBluestem\\n',\n",
              " '       BrDale\\tBriardale\\n',\n",
              " '       BrkSide\\tBrookside\\n',\n",
              " '       ClearCr\\tClear Creek\\n',\n",
              " '       CollgCr\\tCollege Creek\\n',\n",
              " '       Crawfor\\tCrawford\\n',\n",
              " '       Edwards\\tEdwards\\n',\n",
              " '       Gilbert\\tGilbert\\n',\n",
              " '       IDOTRR\\tIowa DOT and Rail Road\\n',\n",
              " '       MeadowV\\tMeadow Village\\n',\n",
              " '       Mitchel\\tMitchell\\n',\n",
              " '       Names\\tNorth Ames\\n',\n",
              " '       NoRidge\\tNorthridge\\n',\n",
              " '       NPkVill\\tNorthpark Villa\\n',\n",
              " '       NridgHt\\tNorthridge Heights\\n',\n",
              " '       NWAmes\\tNorthwest Ames\\n',\n",
              " '       OldTown\\tOld Town\\n',\n",
              " '       SWISU\\tSouth & West of Iowa State University\\n',\n",
              " '       Sawyer\\tSawyer\\n',\n",
              " '       SawyerW\\tSawyer West\\n',\n",
              " '       Somerst\\tSomerset\\n',\n",
              " '       StoneBr\\tStone Brook\\n',\n",
              " '       Timber\\tTimberland\\n',\n",
              " '       Veenker\\tVeenker\\n',\n",
              " '\\t\\t\\t\\n',\n",
              " 'Condition1: Proximity to various conditions\\n',\n",
              " '\\t\\n',\n",
              " '       Artery\\tAdjacent to arterial street\\n',\n",
              " '       Feedr\\tAdjacent to feeder street\\t\\n',\n",
              " '       Norm\\tNormal\\t\\n',\n",
              " \"       RRNn\\tWithin 200' of North-South Railroad\\n\",\n",
              " '       RRAn\\tAdjacent to North-South Railroad\\n',\n",
              " '       PosN\\tNear positive off-site feature--park, greenbelt, etc.\\n',\n",
              " '       PosA\\tAdjacent to postive off-site feature\\n',\n",
              " \"       RRNe\\tWithin 200' of East-West Railroad\\n\",\n",
              " '       RRAe\\tAdjacent to East-West Railroad\\n',\n",
              " '\\t\\n',\n",
              " 'Condition2: Proximity to various conditions (if more than one is present)\\n',\n",
              " '\\t\\t\\n',\n",
              " '       Artery\\tAdjacent to arterial street\\n',\n",
              " '       Feedr\\tAdjacent to feeder street\\t\\n',\n",
              " '       Norm\\tNormal\\t\\n',\n",
              " \"       RRNn\\tWithin 200' of North-South Railroad\\n\",\n",
              " '       RRAn\\tAdjacent to North-South Railroad\\n',\n",
              " '       PosN\\tNear positive off-site feature--park, greenbelt, etc.\\n',\n",
              " '       PosA\\tAdjacent to postive off-site feature\\n',\n",
              " \"       RRNe\\tWithin 200' of East-West Railroad\\n\",\n",
              " '       RRAe\\tAdjacent to East-West Railroad\\n',\n",
              " '\\t\\n',\n",
              " 'BldgType: Type of dwelling\\n',\n",
              " '\\t\\t\\n',\n",
              " '       1Fam\\tSingle-family Detached\\t\\n',\n",
              " '       2FmCon\\tTwo-family Conversion; originally built as one-family dwelling\\n',\n",
              " '       Duplx\\tDuplex\\n',\n",
              " '       TwnhsE\\tTownhouse End Unit\\n',\n",
              " '       TwnhsI\\tTownhouse Inside Unit\\n',\n",
              " '\\t\\n',\n",
              " 'HouseStyle: Style of dwelling\\n',\n",
              " '\\t\\n',\n",
              " '       1Story\\tOne story\\n',\n",
              " '       1.5Fin\\tOne and one-half story: 2nd level finished\\n',\n",
              " '       1.5Unf\\tOne and one-half story: 2nd level unfinished\\n',\n",
              " '       2Story\\tTwo story\\n',\n",
              " '       2.5Fin\\tTwo and one-half story: 2nd level finished\\n',\n",
              " '       2.5Unf\\tTwo and one-half story: 2nd level unfinished\\n',\n",
              " '       SFoyer\\tSplit Foyer\\n',\n",
              " '       SLvl\\tSplit Level\\n',\n",
              " '\\t\\n',\n",
              " 'OverallQual: Rates the overall material and finish of the house\\n',\n",
              " '\\n',\n",
              " '       10\\tVery Excellent\\n',\n",
              " '       9\\tExcellent\\n',\n",
              " '       8\\tVery Good\\n',\n",
              " '       7\\tGood\\n',\n",
              " '       6\\tAbove Average\\n',\n",
              " '       5\\tAverage\\n',\n",
              " '       4\\tBelow Average\\n',\n",
              " '       3\\tFair\\n',\n",
              " '       2\\tPoor\\n',\n",
              " '       1\\tVery Poor\\n',\n",
              " '\\t\\n',\n",
              " 'OverallCond: Rates the overall condition of the house\\n',\n",
              " '\\n',\n",
              " '       10\\tVery Excellent\\n',\n",
              " '       9\\tExcellent\\n',\n",
              " '       8\\tVery Good\\n',\n",
              " '       7\\tGood\\n',\n",
              " '       6\\tAbove Average\\t\\n',\n",
              " '       5\\tAverage\\n',\n",
              " '       4\\tBelow Average\\t\\n',\n",
              " '       3\\tFair\\n',\n",
              " '       2\\tPoor\\n',\n",
              " '       1\\tVery Poor\\n',\n",
              " '\\t\\t\\n',\n",
              " 'YearBuilt: Original construction date\\n',\n",
              " '\\n',\n",
              " 'YearRemodAdd: Remodel date (same as construction date if no remodeling or additions)\\n',\n",
              " '\\n',\n",
              " 'RoofStyle: Type of roof\\n',\n",
              " '\\n',\n",
              " '       Flat\\tFlat\\n',\n",
              " '       Gable\\tGable\\n',\n",
              " '       Gambrel\\tGabrel (Barn)\\n',\n",
              " '       Hip\\tHip\\n',\n",
              " '       Mansard\\tMansard\\n',\n",
              " '       Shed\\tShed\\n',\n",
              " '\\t\\t\\n',\n",
              " 'RoofMatl: Roof material\\n',\n",
              " '\\n',\n",
              " '       ClyTile\\tClay or Tile\\n',\n",
              " '       CompShg\\tStandard (Composite) Shingle\\n',\n",
              " '       Membran\\tMembrane\\n',\n",
              " '       Metal\\tMetal\\n',\n",
              " '       Roll\\tRoll\\n',\n",
              " '       Tar&Grv\\tGravel & Tar\\n',\n",
              " '       WdShake\\tWood Shakes\\n',\n",
              " '       WdShngl\\tWood Shingles\\n',\n",
              " '\\t\\t\\n',\n",
              " 'Exterior1st: Exterior covering on house\\n',\n",
              " '\\n',\n",
              " '       AsbShng\\tAsbestos Shingles\\n',\n",
              " '       AsphShn\\tAsphalt Shingles\\n',\n",
              " '       BrkComm\\tBrick Common\\n',\n",
              " '       BrkFace\\tBrick Face\\n',\n",
              " '       CBlock\\tCinder Block\\n',\n",
              " '       CemntBd\\tCement Board\\n',\n",
              " '       HdBoard\\tHard Board\\n',\n",
              " '       ImStucc\\tImitation Stucco\\n',\n",
              " '       MetalSd\\tMetal Siding\\n',\n",
              " '       Other\\tOther\\n',\n",
              " '       Plywood\\tPlywood\\n',\n",
              " '       PreCast\\tPreCast\\t\\n',\n",
              " '       Stone\\tStone\\n',\n",
              " '       Stucco\\tStucco\\n',\n",
              " '       VinylSd\\tVinyl Siding\\n',\n",
              " '       Wd Sdng\\tWood Siding\\n',\n",
              " '       WdShing\\tWood Shingles\\n',\n",
              " '\\t\\n',\n",
              " 'Exterior2nd: Exterior covering on house (if more than one material)\\n',\n",
              " '\\n',\n",
              " '       AsbShng\\tAsbestos Shingles\\n',\n",
              " '       AsphShn\\tAsphalt Shingles\\n',\n",
              " '       BrkComm\\tBrick Common\\n',\n",
              " '       BrkFace\\tBrick Face\\n',\n",
              " '       CBlock\\tCinder Block\\n',\n",
              " '       CemntBd\\tCement Board\\n',\n",
              " '       HdBoard\\tHard Board\\n',\n",
              " '       ImStucc\\tImitation Stucco\\n',\n",
              " '       MetalSd\\tMetal Siding\\n',\n",
              " '       Other\\tOther\\n',\n",
              " '       Plywood\\tPlywood\\n',\n",
              " '       PreCast\\tPreCast\\n',\n",
              " '       Stone\\tStone\\n',\n",
              " '       Stucco\\tStucco\\n',\n",
              " '       VinylSd\\tVinyl Siding\\n',\n",
              " '       Wd Sdng\\tWood Siding\\n',\n",
              " '       WdShing\\tWood Shingles\\n',\n",
              " '\\t\\n',\n",
              " 'MasVnrType: Masonry veneer type\\n',\n",
              " '\\n',\n",
              " '       BrkCmn\\tBrick Common\\n',\n",
              " '       BrkFace\\tBrick Face\\n',\n",
              " '       CBlock\\tCinder Block\\n',\n",
              " '       None\\tNone\\n',\n",
              " '       Stone\\tStone\\n',\n",
              " '\\t\\n',\n",
              " 'MasVnrArea: Masonry veneer area in square feet\\n',\n",
              " '\\n',\n",
              " 'ExterQual: Evaluates the quality of the material on the exterior \\n',\n",
              " '\\t\\t\\n',\n",
              " '       Ex\\tExcellent\\n',\n",
              " '       Gd\\tGood\\n',\n",
              " '       TA\\tAverage/Typical\\n',\n",
              " '       Fa\\tFair\\n',\n",
              " '       Po\\tPoor\\n',\n",
              " '\\t\\t\\n',\n",
              " 'ExterCond: Evaluates the present condition of the material on the exterior\\n',\n",
              " '\\t\\t\\n',\n",
              " '       Ex\\tExcellent\\n',\n",
              " '       Gd\\tGood\\n',\n",
              " '       TA\\tAverage/Typical\\n',\n",
              " '       Fa\\tFair\\n',\n",
              " '       Po\\tPoor\\n',\n",
              " '\\t\\t\\n',\n",
              " 'Foundation: Type of foundation\\n',\n",
              " '\\t\\t\\n',\n",
              " '       BrkTil\\tBrick & Tile\\n',\n",
              " '       CBlock\\tCinder Block\\n',\n",
              " '       PConc\\tPoured Contrete\\t\\n',\n",
              " '       Slab\\tSlab\\n',\n",
              " '       Stone\\tStone\\n',\n",
              " '       Wood\\tWood\\n',\n",
              " '\\t\\t\\n',\n",
              " 'BsmtQual: Evaluates the height of the basement\\n',\n",
              " '\\n',\n",
              " '       Ex\\tExcellent (100+ inches)\\t\\n',\n",
              " '       Gd\\tGood (90-99 inches)\\n',\n",
              " '       TA\\tTypical (80-89 inches)\\n',\n",
              " '       Fa\\tFair (70-79 inches)\\n',\n",
              " '       Po\\tPoor (<70 inches\\n',\n",
              " '       NA\\tNo Basement\\n',\n",
              " '\\t\\t\\n',\n",
              " 'BsmtCond: Evaluates the general condition of the basement\\n',\n",
              " '\\n',\n",
              " '       Ex\\tExcellent\\n',\n",
              " '       Gd\\tGood\\n',\n",
              " '       TA\\tTypical - slight dampness allowed\\n',\n",
              " '       Fa\\tFair - dampness or some cracking or settling\\n',\n",
              " '       Po\\tPoor - Severe cracking, settling, or wetness\\n',\n",
              " '       NA\\tNo Basement\\n',\n",
              " '\\t\\n',\n",
              " 'BsmtExposure: Refers to walkout or garden level walls\\n',\n",
              " '\\n',\n",
              " '       Gd\\tGood Exposure\\n',\n",
              " '       Av\\tAverage Exposure (split levels or foyers typically score average or above)\\t\\n',\n",
              " '       Mn\\tMimimum Exposure\\n',\n",
              " '       No\\tNo Exposure\\n',\n",
              " '       NA\\tNo Basement\\n',\n",
              " '\\t\\n',\n",
              " 'BsmtFinType1: Rating of basement finished area\\n',\n",
              " '\\n',\n",
              " '       GLQ\\tGood Living Quarters\\n',\n",
              " '       ALQ\\tAverage Living Quarters\\n',\n",
              " '       BLQ\\tBelow Average Living Quarters\\t\\n',\n",
              " '       Rec\\tAverage Rec Room\\n',\n",
              " '       LwQ\\tLow Quality\\n',\n",
              " '       Unf\\tUnfinshed\\n',\n",
              " '       NA\\tNo Basement\\n',\n",
              " '\\t\\t\\n',\n",
              " 'BsmtFinSF1: Type 1 finished square feet\\n',\n",
              " '\\n',\n",
              " 'BsmtFinType2: Rating of basement finished area (if multiple types)\\n',\n",
              " '\\n',\n",
              " '       GLQ\\tGood Living Quarters\\n',\n",
              " '       ALQ\\tAverage Living Quarters\\n',\n",
              " '       BLQ\\tBelow Average Living Quarters\\t\\n',\n",
              " '       Rec\\tAverage Rec Room\\n',\n",
              " '       LwQ\\tLow Quality\\n',\n",
              " '       Unf\\tUnfinshed\\n',\n",
              " '       NA\\tNo Basement\\n',\n",
              " '\\n',\n",
              " 'BsmtFinSF2: Type 2 finished square feet\\n',\n",
              " '\\n',\n",
              " 'BsmtUnfSF: Unfinished square feet of basement area\\n',\n",
              " '\\n',\n",
              " 'TotalBsmtSF: Total square feet of basement area\\n',\n",
              " '\\n',\n",
              " 'Heating: Type of heating\\n',\n",
              " '\\t\\t\\n',\n",
              " '       Floor\\tFloor Furnace\\n',\n",
              " '       GasA\\tGas forced warm air furnace\\n',\n",
              " '       GasW\\tGas hot water or steam heat\\n',\n",
              " '       Grav\\tGravity furnace\\t\\n',\n",
              " '       OthW\\tHot water or steam heat other than gas\\n',\n",
              " '       Wall\\tWall furnace\\n',\n",
              " '\\t\\t\\n',\n",
              " 'HeatingQC: Heating quality and condition\\n',\n",
              " '\\n',\n",
              " '       Ex\\tExcellent\\n',\n",
              " '       Gd\\tGood\\n',\n",
              " '       TA\\tAverage/Typical\\n',\n",
              " '       Fa\\tFair\\n',\n",
              " '       Po\\tPoor\\n',\n",
              " '\\t\\t\\n',\n",
              " 'CentralAir: Central air conditioning\\n',\n",
              " '\\n',\n",
              " '       N\\tNo\\n',\n",
              " '       Y\\tYes\\n',\n",
              " '\\t\\t\\n',\n",
              " 'Electrical: Electrical system\\n',\n",
              " '\\n',\n",
              " '       SBrkr\\tStandard Circuit Breakers & Romex\\n',\n",
              " '       FuseA\\tFuse Box over 60 AMP and all Romex wiring (Average)\\t\\n',\n",
              " '       FuseF\\t60 AMP Fuse Box and mostly Romex wiring (Fair)\\n',\n",
              " '       FuseP\\t60 AMP Fuse Box and mostly knob & tube wiring (poor)\\n',\n",
              " '       Mix\\tMixed\\n',\n",
              " '\\t\\t\\n',\n",
              " '1stFlrSF: First Floor square feet\\n',\n",
              " ' \\n',\n",
              " '2ndFlrSF: Second floor square feet\\n',\n",
              " '\\n',\n",
              " 'LowQualFinSF: Low quality finished square feet (all floors)\\n',\n",
              " '\\n',\n",
              " 'GrLivArea: Above grade (ground) living area square feet\\n',\n",
              " '\\n',\n",
              " 'BsmtFullBath: Basement full bathrooms\\n',\n",
              " '\\n',\n",
              " 'BsmtHalfBath: Basement half bathrooms\\n',\n",
              " '\\n',\n",
              " 'FullBath: Full bathrooms above grade\\n',\n",
              " '\\n',\n",
              " 'HalfBath: Half baths above grade\\n',\n",
              " '\\n',\n",
              " 'Bedroom: Bedrooms above grade (does NOT include basement bedrooms)\\n',\n",
              " '\\n',\n",
              " 'Kitchen: Kitchens above grade\\n',\n",
              " '\\n',\n",
              " 'KitchenQual: Kitchen quality\\n',\n",
              " '\\n',\n",
              " '       Ex\\tExcellent\\n',\n",
              " '       Gd\\tGood\\n',\n",
              " '       TA\\tTypical/Average\\n',\n",
              " '       Fa\\tFair\\n',\n",
              " '       Po\\tPoor\\n',\n",
              " '       \\t\\n',\n",
              " 'TotRmsAbvGrd: Total rooms above grade (does not include bathrooms)\\n',\n",
              " '\\n',\n",
              " 'Functional: Home functionality (Assume typical unless deductions are warranted)\\n',\n",
              " '\\n',\n",
              " '       Typ\\tTypical Functionality\\n',\n",
              " '       Min1\\tMinor Deductions 1\\n',\n",
              " '       Min2\\tMinor Deductions 2\\n',\n",
              " '       Mod\\tModerate Deductions\\n',\n",
              " '       Maj1\\tMajor Deductions 1\\n',\n",
              " '       Maj2\\tMajor Deductions 2\\n',\n",
              " '       Sev\\tSeverely Damaged\\n',\n",
              " '       Sal\\tSalvage only\\n',\n",
              " '\\t\\t\\n',\n",
              " 'Fireplaces: Number of fireplaces\\n',\n",
              " '\\n',\n",
              " 'FireplaceQu: Fireplace quality\\n',\n",
              " '\\n',\n",
              " '       Ex\\tExcellent - Exceptional Masonry Fireplace\\n',\n",
              " '       Gd\\tGood - Masonry Fireplace in main level\\n',\n",
              " '       TA\\tAverage - Prefabricated Fireplace in main living area or Masonry Fireplace in basement\\n',\n",
              " '       Fa\\tFair - Prefabricated Fireplace in basement\\n',\n",
              " '       Po\\tPoor - Ben Franklin Stove\\n',\n",
              " '       NA\\tNo Fireplace\\n',\n",
              " '\\t\\t\\n',\n",
              " 'GarageType: Garage location\\n',\n",
              " '\\t\\t\\n',\n",
              " '       2Types\\tMore than one type of garage\\n',\n",
              " '       Attchd\\tAttached to home\\n',\n",
              " '       Basment\\tBasement Garage\\n',\n",
              " '       BuiltIn\\tBuilt-In (Garage part of house - typically has room above garage)\\n',\n",
              " '       CarPort\\tCar Port\\n',\n",
              " '       Detchd\\tDetached from home\\n',\n",
              " '       NA\\tNo Garage\\n',\n",
              " '\\t\\t\\n',\n",
              " 'GarageYrBlt: Year garage was built\\n',\n",
              " '\\t\\t\\n',\n",
              " 'GarageFinish: Interior finish of the garage\\n',\n",
              " '\\n',\n",
              " '       Fin\\tFinished\\n',\n",
              " '       RFn\\tRough Finished\\t\\n',\n",
              " '       Unf\\tUnfinished\\n',\n",
              " '       NA\\tNo Garage\\n',\n",
              " '\\t\\t\\n',\n",
              " 'GarageCars: Size of garage in car capacity\\n',\n",
              " '\\n',\n",
              " 'GarageArea: Size of garage in square feet\\n',\n",
              " '\\n',\n",
              " 'GarageQual: Garage quality\\n',\n",
              " '\\n',\n",
              " '       Ex\\tExcellent\\n',\n",
              " '       Gd\\tGood\\n',\n",
              " '       TA\\tTypical/Average\\n',\n",
              " '       Fa\\tFair\\n',\n",
              " '       Po\\tPoor\\n',\n",
              " '       NA\\tNo Garage\\n',\n",
              " '\\t\\t\\n',\n",
              " 'GarageCond: Garage condition\\n',\n",
              " '\\n',\n",
              " '       Ex\\tExcellent\\n',\n",
              " '       Gd\\tGood\\n',\n",
              " '       TA\\tTypical/Average\\n',\n",
              " '       Fa\\tFair\\n',\n",
              " '       Po\\tPoor\\n',\n",
              " '       NA\\tNo Garage\\n',\n",
              " '\\t\\t\\n',\n",
              " 'PavedDrive: Paved driveway\\n',\n",
              " '\\n',\n",
              " '       Y\\tPaved \\n',\n",
              " '       P\\tPartial Pavement\\n',\n",
              " '       N\\tDirt/Gravel\\n',\n",
              " '\\t\\t\\n',\n",
              " 'WoodDeckSF: Wood deck area in square feet\\n',\n",
              " '\\n',\n",
              " 'OpenPorchSF: Open porch area in square feet\\n',\n",
              " '\\n',\n",
              " 'EnclosedPorch: Enclosed porch area in square feet\\n',\n",
              " '\\n',\n",
              " '3SsnPorch: Three season porch area in square feet\\n',\n",
              " '\\n',\n",
              " 'ScreenPorch: Screen porch area in square feet\\n',\n",
              " '\\n',\n",
              " 'PoolArea: Pool area in square feet\\n',\n",
              " '\\n',\n",
              " 'PoolQC: Pool quality\\n',\n",
              " '\\t\\t\\n',\n",
              " '       Ex\\tExcellent\\n',\n",
              " '       Gd\\tGood\\n',\n",
              " '       TA\\tAverage/Typical\\n',\n",
              " '       Fa\\tFair\\n',\n",
              " '       NA\\tNo Pool\\n',\n",
              " '\\t\\t\\n',\n",
              " 'Fence: Fence quality\\n',\n",
              " '\\t\\t\\n',\n",
              " '       GdPrv\\tGood Privacy\\n',\n",
              " '       MnPrv\\tMinimum Privacy\\n',\n",
              " '       GdWo\\tGood Wood\\n',\n",
              " '       MnWw\\tMinimum Wood/Wire\\n',\n",
              " '       NA\\tNo Fence\\n',\n",
              " '\\t\\n',\n",
              " 'MiscFeature: Miscellaneous feature not covered in other categories\\n',\n",
              " '\\t\\t\\n',\n",
              " '       Elev\\tElevator\\n',\n",
              " '       Gar2\\t2nd Garage (if not described in garage section)\\n',\n",
              " '       Othr\\tOther\\n',\n",
              " '       Shed\\tShed (over 100 SF)\\n',\n",
              " '       TenC\\tTennis Court\\n',\n",
              " '       NA\\tNone\\n',\n",
              " '\\t\\t\\n',\n",
              " 'MiscVal: $Value of miscellaneous feature\\n',\n",
              " '\\n',\n",
              " 'MoSold: Month Sold (MM)\\n',\n",
              " '\\n',\n",
              " 'YrSold: Year Sold (YYYY)\\n',\n",
              " '\\n',\n",
              " 'SaleType: Type of sale\\n',\n",
              " '\\t\\t\\n',\n",
              " '       WD \\tWarranty Deed - Conventional\\n',\n",
              " '       CWD\\tWarranty Deed - Cash\\n',\n",
              " '       VWD\\tWarranty Deed - VA Loan\\n',\n",
              " '       New\\tHome just constructed and sold\\n',\n",
              " '       COD\\tCourt Officer Deed/Estate\\n',\n",
              " '       Con\\tContract 15% Down payment regular terms\\n',\n",
              " '       ConLw\\tContract Low Down payment and low interest\\n',\n",
              " '       ConLI\\tContract Low Interest\\n',\n",
              " '       ConLD\\tContract Low Down\\n',\n",
              " '       Oth\\tOther\\n',\n",
              " '\\t\\t\\n',\n",
              " 'SaleCondition: Condition of sale\\n',\n",
              " '\\n',\n",
              " '       Normal\\tNormal Sale\\n',\n",
              " '       Abnorml\\tAbnormal Sale -  trade, foreclosure, short sale\\n',\n",
              " '       AdjLand\\tAdjoining Land Purchase\\n',\n",
              " '       Alloca\\tAllocation - two linked properties with separate deeds, typically condo with a garage unit\\t\\n',\n",
              " '       Family\\tSale between family members\\n',\n",
              " '       Partial\\tHome was not completed when last assessed (associated with New Homes)\\n']"
            ]
          },
          "metadata": {},
          "execution_count": 85
        }
      ]
    },
    {
      "cell_type": "code",
      "source": [
        "#Example of result submission to Kaggle\n",
        "sample_sub = pd.read_csv('sample_submission.csv')\n",
        "sample_sub.head()"
      ],
      "metadata": {
        "colab": {
          "base_uri": "https://localhost:8080/",
          "height": 206
        },
        "id": "sTfyWEX1wYW2",
        "outputId": "1eabafa8-6fe2-4ff0-a208-c924addcd728"
      },
      "execution_count": 86,
      "outputs": [
        {
          "output_type": "execute_result",
          "data": {
            "text/plain": [
              "     Id      SalePrice\n",
              "0  1461  169277.052498\n",
              "1  1462  187758.393989\n",
              "2  1463  183583.683570\n",
              "3  1464  179317.477511\n",
              "4  1465  150730.079977"
            ],
            "text/html": [
              "\n",
              "  <div id=\"df-43abd861-3655-40fa-ac04-1c2210de0b7a\">\n",
              "    <div class=\"colab-df-container\">\n",
              "      <div>\n",
              "<style scoped>\n",
              "    .dataframe tbody tr th:only-of-type {\n",
              "        vertical-align: middle;\n",
              "    }\n",
              "\n",
              "    .dataframe tbody tr th {\n",
              "        vertical-align: top;\n",
              "    }\n",
              "\n",
              "    .dataframe thead th {\n",
              "        text-align: right;\n",
              "    }\n",
              "</style>\n",
              "<table border=\"1\" class=\"dataframe\">\n",
              "  <thead>\n",
              "    <tr style=\"text-align: right;\">\n",
              "      <th></th>\n",
              "      <th>Id</th>\n",
              "      <th>SalePrice</th>\n",
              "    </tr>\n",
              "  </thead>\n",
              "  <tbody>\n",
              "    <tr>\n",
              "      <th>0</th>\n",
              "      <td>1461</td>\n",
              "      <td>169277.052498</td>\n",
              "    </tr>\n",
              "    <tr>\n",
              "      <th>1</th>\n",
              "      <td>1462</td>\n",
              "      <td>187758.393989</td>\n",
              "    </tr>\n",
              "    <tr>\n",
              "      <th>2</th>\n",
              "      <td>1463</td>\n",
              "      <td>183583.683570</td>\n",
              "    </tr>\n",
              "    <tr>\n",
              "      <th>3</th>\n",
              "      <td>1464</td>\n",
              "      <td>179317.477511</td>\n",
              "    </tr>\n",
              "    <tr>\n",
              "      <th>4</th>\n",
              "      <td>1465</td>\n",
              "      <td>150730.079977</td>\n",
              "    </tr>\n",
              "  </tbody>\n",
              "</table>\n",
              "</div>\n",
              "      <button class=\"colab-df-convert\" onclick=\"convertToInteractive('df-43abd861-3655-40fa-ac04-1c2210de0b7a')\"\n",
              "              title=\"Convert this dataframe to an interactive table.\"\n",
              "              style=\"display:none;\">\n",
              "        \n",
              "  <svg xmlns=\"http://www.w3.org/2000/svg\" height=\"24px\"viewBox=\"0 0 24 24\"\n",
              "       width=\"24px\">\n",
              "    <path d=\"M0 0h24v24H0V0z\" fill=\"none\"/>\n",
              "    <path d=\"M18.56 5.44l.94 2.06.94-2.06 2.06-.94-2.06-.94-.94-2.06-.94 2.06-2.06.94zm-11 1L8.5 8.5l.94-2.06 2.06-.94-2.06-.94L8.5 2.5l-.94 2.06-2.06.94zm10 10l.94 2.06.94-2.06 2.06-.94-2.06-.94-.94-2.06-.94 2.06-2.06.94z\"/><path d=\"M17.41 7.96l-1.37-1.37c-.4-.4-.92-.59-1.43-.59-.52 0-1.04.2-1.43.59L10.3 9.45l-7.72 7.72c-.78.78-.78 2.05 0 2.83L4 21.41c.39.39.9.59 1.41.59.51 0 1.02-.2 1.41-.59l7.78-7.78 2.81-2.81c.8-.78.8-2.07 0-2.86zM5.41 20L4 18.59l7.72-7.72 1.47 1.35L5.41 20z\"/>\n",
              "  </svg>\n",
              "      </button>\n",
              "      \n",
              "  <style>\n",
              "    .colab-df-container {\n",
              "      display:flex;\n",
              "      flex-wrap:wrap;\n",
              "      gap: 12px;\n",
              "    }\n",
              "\n",
              "    .colab-df-convert {\n",
              "      background-color: #E8F0FE;\n",
              "      border: none;\n",
              "      border-radius: 50%;\n",
              "      cursor: pointer;\n",
              "      display: none;\n",
              "      fill: #1967D2;\n",
              "      height: 32px;\n",
              "      padding: 0 0 0 0;\n",
              "      width: 32px;\n",
              "    }\n",
              "\n",
              "    .colab-df-convert:hover {\n",
              "      background-color: #E2EBFA;\n",
              "      box-shadow: 0px 1px 2px rgba(60, 64, 67, 0.3), 0px 1px 3px 1px rgba(60, 64, 67, 0.15);\n",
              "      fill: #174EA6;\n",
              "    }\n",
              "\n",
              "    [theme=dark] .colab-df-convert {\n",
              "      background-color: #3B4455;\n",
              "      fill: #D2E3FC;\n",
              "    }\n",
              "\n",
              "    [theme=dark] .colab-df-convert:hover {\n",
              "      background-color: #434B5C;\n",
              "      box-shadow: 0px 1px 3px 1px rgba(0, 0, 0, 0.15);\n",
              "      filter: drop-shadow(0px 1px 2px rgba(0, 0, 0, 0.3));\n",
              "      fill: #FFFFFF;\n",
              "    }\n",
              "  </style>\n",
              "\n",
              "      <script>\n",
              "        const buttonEl =\n",
              "          document.querySelector('#df-43abd861-3655-40fa-ac04-1c2210de0b7a button.colab-df-convert');\n",
              "        buttonEl.style.display =\n",
              "          google.colab.kernel.accessAllowed ? 'block' : 'none';\n",
              "\n",
              "        async function convertToInteractive(key) {\n",
              "          const element = document.querySelector('#df-43abd861-3655-40fa-ac04-1c2210de0b7a');\n",
              "          const dataTable =\n",
              "            await google.colab.kernel.invokeFunction('convertToInteractive',\n",
              "                                                     [key], {});\n",
              "          if (!dataTable) return;\n",
              "\n",
              "          const docLinkHtml = 'Like what you see? Visit the ' +\n",
              "            '<a target=\"_blank\" href=https://colab.research.google.com/notebooks/data_table.ipynb>data table notebook</a>'\n",
              "            + ' to learn more about interactive tables.';\n",
              "          element.innerHTML = '';\n",
              "          dataTable['output_type'] = 'display_data';\n",
              "          await google.colab.output.renderOutput(dataTable, element);\n",
              "          const docLink = document.createElement('div');\n",
              "          docLink.innerHTML = docLinkHtml;\n",
              "          element.appendChild(docLink);\n",
              "        }\n",
              "      </script>\n",
              "    </div>\n",
              "  </div>\n",
              "  "
            ]
          },
          "metadata": {},
          "execution_count": 86
        }
      ]
    },
    {
      "cell_type": "markdown",
      "source": [
        "#Data Wrangling"
      ],
      "metadata": {
        "id": "cQXXrlBlwOsr"
      }
    },
    {
      "cell_type": "code",
      "source": [
        "df_train = pd.read_csv('train.csv')\n",
        "df_train.head()"
      ],
      "metadata": {
        "colab": {
          "base_uri": "https://localhost:8080/",
          "height": 300
        },
        "id": "Ie0qP4mSvPj0",
        "outputId": "9ad70c1f-b24b-402f-99f2-8c4542d01117"
      },
      "execution_count": 87,
      "outputs": [
        {
          "output_type": "execute_result",
          "data": {
            "text/plain": [
              "   Id  MSSubClass MSZoning  LotFrontage  LotArea Street Alley LotShape  \\\n",
              "0   1          60       RL         65.0     8450   Pave   NaN      Reg   \n",
              "1   2          20       RL         80.0     9600   Pave   NaN      Reg   \n",
              "2   3          60       RL         68.0    11250   Pave   NaN      IR1   \n",
              "3   4          70       RL         60.0     9550   Pave   NaN      IR1   \n",
              "4   5          60       RL         84.0    14260   Pave   NaN      IR1   \n",
              "\n",
              "  LandContour Utilities  ... PoolArea PoolQC Fence MiscFeature MiscVal MoSold  \\\n",
              "0         Lvl    AllPub  ...        0    NaN   NaN         NaN       0      2   \n",
              "1         Lvl    AllPub  ...        0    NaN   NaN         NaN       0      5   \n",
              "2         Lvl    AllPub  ...        0    NaN   NaN         NaN       0      9   \n",
              "3         Lvl    AllPub  ...        0    NaN   NaN         NaN       0      2   \n",
              "4         Lvl    AllPub  ...        0    NaN   NaN         NaN       0     12   \n",
              "\n",
              "  YrSold  SaleType  SaleCondition  SalePrice  \n",
              "0   2008        WD         Normal     208500  \n",
              "1   2007        WD         Normal     181500  \n",
              "2   2008        WD         Normal     223500  \n",
              "3   2006        WD        Abnorml     140000  \n",
              "4   2008        WD         Normal     250000  \n",
              "\n",
              "[5 rows x 81 columns]"
            ],
            "text/html": [
              "\n",
              "  <div id=\"df-8dbeca63-07ea-4160-b7a7-e075df06773b\">\n",
              "    <div class=\"colab-df-container\">\n",
              "      <div>\n",
              "<style scoped>\n",
              "    .dataframe tbody tr th:only-of-type {\n",
              "        vertical-align: middle;\n",
              "    }\n",
              "\n",
              "    .dataframe tbody tr th {\n",
              "        vertical-align: top;\n",
              "    }\n",
              "\n",
              "    .dataframe thead th {\n",
              "        text-align: right;\n",
              "    }\n",
              "</style>\n",
              "<table border=\"1\" class=\"dataframe\">\n",
              "  <thead>\n",
              "    <tr style=\"text-align: right;\">\n",
              "      <th></th>\n",
              "      <th>Id</th>\n",
              "      <th>MSSubClass</th>\n",
              "      <th>MSZoning</th>\n",
              "      <th>LotFrontage</th>\n",
              "      <th>LotArea</th>\n",
              "      <th>Street</th>\n",
              "      <th>Alley</th>\n",
              "      <th>LotShape</th>\n",
              "      <th>LandContour</th>\n",
              "      <th>Utilities</th>\n",
              "      <th>...</th>\n",
              "      <th>PoolArea</th>\n",
              "      <th>PoolQC</th>\n",
              "      <th>Fence</th>\n",
              "      <th>MiscFeature</th>\n",
              "      <th>MiscVal</th>\n",
              "      <th>MoSold</th>\n",
              "      <th>YrSold</th>\n",
              "      <th>SaleType</th>\n",
              "      <th>SaleCondition</th>\n",
              "      <th>SalePrice</th>\n",
              "    </tr>\n",
              "  </thead>\n",
              "  <tbody>\n",
              "    <tr>\n",
              "      <th>0</th>\n",
              "      <td>1</td>\n",
              "      <td>60</td>\n",
              "      <td>RL</td>\n",
              "      <td>65.0</td>\n",
              "      <td>8450</td>\n",
              "      <td>Pave</td>\n",
              "      <td>NaN</td>\n",
              "      <td>Reg</td>\n",
              "      <td>Lvl</td>\n",
              "      <td>AllPub</td>\n",
              "      <td>...</td>\n",
              "      <td>0</td>\n",
              "      <td>NaN</td>\n",
              "      <td>NaN</td>\n",
              "      <td>NaN</td>\n",
              "      <td>0</td>\n",
              "      <td>2</td>\n",
              "      <td>2008</td>\n",
              "      <td>WD</td>\n",
              "      <td>Normal</td>\n",
              "      <td>208500</td>\n",
              "    </tr>\n",
              "    <tr>\n",
              "      <th>1</th>\n",
              "      <td>2</td>\n",
              "      <td>20</td>\n",
              "      <td>RL</td>\n",
              "      <td>80.0</td>\n",
              "      <td>9600</td>\n",
              "      <td>Pave</td>\n",
              "      <td>NaN</td>\n",
              "      <td>Reg</td>\n",
              "      <td>Lvl</td>\n",
              "      <td>AllPub</td>\n",
              "      <td>...</td>\n",
              "      <td>0</td>\n",
              "      <td>NaN</td>\n",
              "      <td>NaN</td>\n",
              "      <td>NaN</td>\n",
              "      <td>0</td>\n",
              "      <td>5</td>\n",
              "      <td>2007</td>\n",
              "      <td>WD</td>\n",
              "      <td>Normal</td>\n",
              "      <td>181500</td>\n",
              "    </tr>\n",
              "    <tr>\n",
              "      <th>2</th>\n",
              "      <td>3</td>\n",
              "      <td>60</td>\n",
              "      <td>RL</td>\n",
              "      <td>68.0</td>\n",
              "      <td>11250</td>\n",
              "      <td>Pave</td>\n",
              "      <td>NaN</td>\n",
              "      <td>IR1</td>\n",
              "      <td>Lvl</td>\n",
              "      <td>AllPub</td>\n",
              "      <td>...</td>\n",
              "      <td>0</td>\n",
              "      <td>NaN</td>\n",
              "      <td>NaN</td>\n",
              "      <td>NaN</td>\n",
              "      <td>0</td>\n",
              "      <td>9</td>\n",
              "      <td>2008</td>\n",
              "      <td>WD</td>\n",
              "      <td>Normal</td>\n",
              "      <td>223500</td>\n",
              "    </tr>\n",
              "    <tr>\n",
              "      <th>3</th>\n",
              "      <td>4</td>\n",
              "      <td>70</td>\n",
              "      <td>RL</td>\n",
              "      <td>60.0</td>\n",
              "      <td>9550</td>\n",
              "      <td>Pave</td>\n",
              "      <td>NaN</td>\n",
              "      <td>IR1</td>\n",
              "      <td>Lvl</td>\n",
              "      <td>AllPub</td>\n",
              "      <td>...</td>\n",
              "      <td>0</td>\n",
              "      <td>NaN</td>\n",
              "      <td>NaN</td>\n",
              "      <td>NaN</td>\n",
              "      <td>0</td>\n",
              "      <td>2</td>\n",
              "      <td>2006</td>\n",
              "      <td>WD</td>\n",
              "      <td>Abnorml</td>\n",
              "      <td>140000</td>\n",
              "    </tr>\n",
              "    <tr>\n",
              "      <th>4</th>\n",
              "      <td>5</td>\n",
              "      <td>60</td>\n",
              "      <td>RL</td>\n",
              "      <td>84.0</td>\n",
              "      <td>14260</td>\n",
              "      <td>Pave</td>\n",
              "      <td>NaN</td>\n",
              "      <td>IR1</td>\n",
              "      <td>Lvl</td>\n",
              "      <td>AllPub</td>\n",
              "      <td>...</td>\n",
              "      <td>0</td>\n",
              "      <td>NaN</td>\n",
              "      <td>NaN</td>\n",
              "      <td>NaN</td>\n",
              "      <td>0</td>\n",
              "      <td>12</td>\n",
              "      <td>2008</td>\n",
              "      <td>WD</td>\n",
              "      <td>Normal</td>\n",
              "      <td>250000</td>\n",
              "    </tr>\n",
              "  </tbody>\n",
              "</table>\n",
              "<p>5 rows × 81 columns</p>\n",
              "</div>\n",
              "      <button class=\"colab-df-convert\" onclick=\"convertToInteractive('df-8dbeca63-07ea-4160-b7a7-e075df06773b')\"\n",
              "              title=\"Convert this dataframe to an interactive table.\"\n",
              "              style=\"display:none;\">\n",
              "        \n",
              "  <svg xmlns=\"http://www.w3.org/2000/svg\" height=\"24px\"viewBox=\"0 0 24 24\"\n",
              "       width=\"24px\">\n",
              "    <path d=\"M0 0h24v24H0V0z\" fill=\"none\"/>\n",
              "    <path d=\"M18.56 5.44l.94 2.06.94-2.06 2.06-.94-2.06-.94-.94-2.06-.94 2.06-2.06.94zm-11 1L8.5 8.5l.94-2.06 2.06-.94-2.06-.94L8.5 2.5l-.94 2.06-2.06.94zm10 10l.94 2.06.94-2.06 2.06-.94-2.06-.94-.94-2.06-.94 2.06-2.06.94z\"/><path d=\"M17.41 7.96l-1.37-1.37c-.4-.4-.92-.59-1.43-.59-.52 0-1.04.2-1.43.59L10.3 9.45l-7.72 7.72c-.78.78-.78 2.05 0 2.83L4 21.41c.39.39.9.59 1.41.59.51 0 1.02-.2 1.41-.59l7.78-7.78 2.81-2.81c.8-.78.8-2.07 0-2.86zM5.41 20L4 18.59l7.72-7.72 1.47 1.35L5.41 20z\"/>\n",
              "  </svg>\n",
              "      </button>\n",
              "      \n",
              "  <style>\n",
              "    .colab-df-container {\n",
              "      display:flex;\n",
              "      flex-wrap:wrap;\n",
              "      gap: 12px;\n",
              "    }\n",
              "\n",
              "    .colab-df-convert {\n",
              "      background-color: #E8F0FE;\n",
              "      border: none;\n",
              "      border-radius: 50%;\n",
              "      cursor: pointer;\n",
              "      display: none;\n",
              "      fill: #1967D2;\n",
              "      height: 32px;\n",
              "      padding: 0 0 0 0;\n",
              "      width: 32px;\n",
              "    }\n",
              "\n",
              "    .colab-df-convert:hover {\n",
              "      background-color: #E2EBFA;\n",
              "      box-shadow: 0px 1px 2px rgba(60, 64, 67, 0.3), 0px 1px 3px 1px rgba(60, 64, 67, 0.15);\n",
              "      fill: #174EA6;\n",
              "    }\n",
              "\n",
              "    [theme=dark] .colab-df-convert {\n",
              "      background-color: #3B4455;\n",
              "      fill: #D2E3FC;\n",
              "    }\n",
              "\n",
              "    [theme=dark] .colab-df-convert:hover {\n",
              "      background-color: #434B5C;\n",
              "      box-shadow: 0px 1px 3px 1px rgba(0, 0, 0, 0.15);\n",
              "      filter: drop-shadow(0px 1px 2px rgba(0, 0, 0, 0.3));\n",
              "      fill: #FFFFFF;\n",
              "    }\n",
              "  </style>\n",
              "\n",
              "      <script>\n",
              "        const buttonEl =\n",
              "          document.querySelector('#df-8dbeca63-07ea-4160-b7a7-e075df06773b button.colab-df-convert');\n",
              "        buttonEl.style.display =\n",
              "          google.colab.kernel.accessAllowed ? 'block' : 'none';\n",
              "\n",
              "        async function convertToInteractive(key) {\n",
              "          const element = document.querySelector('#df-8dbeca63-07ea-4160-b7a7-e075df06773b');\n",
              "          const dataTable =\n",
              "            await google.colab.kernel.invokeFunction('convertToInteractive',\n",
              "                                                     [key], {});\n",
              "          if (!dataTable) return;\n",
              "\n",
              "          const docLinkHtml = 'Like what you see? Visit the ' +\n",
              "            '<a target=\"_blank\" href=https://colab.research.google.com/notebooks/data_table.ipynb>data table notebook</a>'\n",
              "            + ' to learn more about interactive tables.';\n",
              "          element.innerHTML = '';\n",
              "          dataTable['output_type'] = 'display_data';\n",
              "          await google.colab.output.renderOutput(dataTable, element);\n",
              "          const docLink = document.createElement('div');\n",
              "          docLink.innerHTML = docLinkHtml;\n",
              "          element.appendChild(docLink);\n",
              "        }\n",
              "      </script>\n",
              "    </div>\n",
              "  </div>\n",
              "  "
            ]
          },
          "metadata": {},
          "execution_count": 87
        }
      ]
    },
    {
      "cell_type": "code",
      "source": [
        "df_train.columns"
      ],
      "metadata": {
        "colab": {
          "base_uri": "https://localhost:8080/"
        },
        "id": "dybwdgtm8x-p",
        "outputId": "8909f278-cb85-4b9b-e4e5-e864923c4557"
      },
      "execution_count": 88,
      "outputs": [
        {
          "output_type": "execute_result",
          "data": {
            "text/plain": [
              "Index(['Id', 'MSSubClass', 'MSZoning', 'LotFrontage', 'LotArea', 'Street',\n",
              "       'Alley', 'LotShape', 'LandContour', 'Utilities', 'LotConfig',\n",
              "       'LandSlope', 'Neighborhood', 'Condition1', 'Condition2', 'BldgType',\n",
              "       'HouseStyle', 'OverallQual', 'OverallCond', 'YearBuilt', 'YearRemodAdd',\n",
              "       'RoofStyle', 'RoofMatl', 'Exterior1st', 'Exterior2nd', 'MasVnrType',\n",
              "       'MasVnrArea', 'ExterQual', 'ExterCond', 'Foundation', 'BsmtQual',\n",
              "       'BsmtCond', 'BsmtExposure', 'BsmtFinType1', 'BsmtFinSF1',\n",
              "       'BsmtFinType2', 'BsmtFinSF2', 'BsmtUnfSF', 'TotalBsmtSF', 'Heating',\n",
              "       'HeatingQC', 'CentralAir', 'Electrical', '1stFlrSF', '2ndFlrSF',\n",
              "       'LowQualFinSF', 'GrLivArea', 'BsmtFullBath', 'BsmtHalfBath', 'FullBath',\n",
              "       'HalfBath', 'BedroomAbvGr', 'KitchenAbvGr', 'KitchenQual',\n",
              "       'TotRmsAbvGrd', 'Functional', 'Fireplaces', 'FireplaceQu', 'GarageType',\n",
              "       'GarageYrBlt', 'GarageFinish', 'GarageCars', 'GarageArea', 'GarageQual',\n",
              "       'GarageCond', 'PavedDrive', 'WoodDeckSF', 'OpenPorchSF',\n",
              "       'EnclosedPorch', '3SsnPorch', 'ScreenPorch', 'PoolArea', 'PoolQC',\n",
              "       'Fence', 'MiscFeature', 'MiscVal', 'MoSold', 'YrSold', 'SaleType',\n",
              "       'SaleCondition', 'SalePrice'],\n",
              "      dtype='object')"
            ]
          },
          "metadata": {},
          "execution_count": 88
        }
      ]
    },
    {
      "cell_type": "code",
      "source": [
        "df_train['Neighborhood'].unique"
      ],
      "metadata": {
        "colab": {
          "base_uri": "https://localhost:8080/"
        },
        "id": "lkyRy4e2Aju5",
        "outputId": "64c9759e-9847-4789-ff5f-d07dedc2a910"
      },
      "execution_count": 89,
      "outputs": [
        {
          "output_type": "execute_result",
          "data": {
            "text/plain": [
              "<bound method Series.unique of 0       CollgCr\n",
              "1       Veenker\n",
              "2       CollgCr\n",
              "3       Crawfor\n",
              "4       NoRidge\n",
              "         ...   \n",
              "1455    Gilbert\n",
              "1456     NWAmes\n",
              "1457    Crawfor\n",
              "1458      NAmes\n",
              "1459    Edwards\n",
              "Name: Neighborhood, Length: 1460, dtype: object>"
            ]
          },
          "metadata": {},
          "execution_count": 89
        }
      ]
    },
    {
      "cell_type": "markdown",
      "source": [
        "####Structure"
      ],
      "metadata": {
        "id": "ZDUUoDlA2CLR"
      }
    },
    {
      "cell_type": "code",
      "source": [
        "df_train['LotFrontage'].unique"
      ],
      "metadata": {
        "colab": {
          "base_uri": "https://localhost:8080/"
        },
        "id": "rBK7ohMC9_na",
        "outputId": "ee86cc7d-949b-4200-ae5b-2340cfe66ff8"
      },
      "execution_count": 90,
      "outputs": [
        {
          "output_type": "execute_result",
          "data": {
            "text/plain": [
              "<bound method Series.unique of 0       65.0\n",
              "1       80.0\n",
              "2       68.0\n",
              "3       60.0\n",
              "4       84.0\n",
              "        ... \n",
              "1455    62.0\n",
              "1456    85.0\n",
              "1457    66.0\n",
              "1458    68.0\n",
              "1459    75.0\n",
              "Name: LotFrontage, Length: 1460, dtype: float64>"
            ]
          },
          "metadata": {},
          "execution_count": 90
        }
      ]
    },
    {
      "cell_type": "code",
      "source": [
        "df_train['KitchenQual'].unique()"
      ],
      "metadata": {
        "colab": {
          "base_uri": "https://localhost:8080/"
        },
        "id": "usTi5pOp-MVu",
        "outputId": "3b11b9f6-972f-4430-a81c-6e4f7a6bf0d3"
      },
      "execution_count": 91,
      "outputs": [
        {
          "output_type": "execute_result",
          "data": {
            "text/plain": [
              "array(['Gd', 'TA', 'Ex', 'Fa'], dtype=object)"
            ]
          },
          "metadata": {},
          "execution_count": 91
        }
      ]
    },
    {
      "cell_type": "code",
      "source": [
        "df_train['YrSold'].unique()"
      ],
      "metadata": {
        "colab": {
          "base_uri": "https://localhost:8080/"
        },
        "id": "UCYdFBZv-W3A",
        "outputId": "71f6c88a-077a-4eb2-b144-212cc2a1687f"
      },
      "execution_count": 92,
      "outputs": [
        {
          "output_type": "execute_result",
          "data": {
            "text/plain": [
              "array([2008, 2007, 2006, 2009, 2010])"
            ]
          },
          "metadata": {},
          "execution_count": 92
        }
      ]
    },
    {
      "cell_type": "markdown",
      "source": [
        "#####From the above, we can see that the data is in a rectangular format (CSV). Apart from that, we can also see that we have all three types of data\n",
        "\n",
        "#####Quantitative data like SalePrice, LotFrontage etc.\n",
        "#####Ordinal data like BsmtQual, KitchenQual\n",
        "#####Nominal data like YrSold, SaleType"
      ],
      "metadata": {
        "id": "cGIzG1aq9D2p"
      }
    },
    {
      "cell_type": "markdown",
      "source": [
        "####Granularity"
      ],
      "metadata": {
        "id": "DXXcCW_b-lCf"
      }
    },
    {
      "cell_type": "markdown",
      "source": [
        "#####Each record in the dataframe represents a house that was sold and the various properties of it at the time it was sold.\n",
        "\n",
        "#####Aggregation is possible in many ways.\n",
        "#####Eg. we can aggregate houses by their overall quality, the neighborhood they are located in, the year they were sold, or even go further and additionally aggregate by the month they were sold"
      ],
      "metadata": {
        "id": "0RuMolEL-0Qe"
      }
    },
    {
      "cell_type": "markdown",
      "source": [
        "####Scope"
      ],
      "metadata": {
        "id": "gWWZ12M-AKJH"
      }
    },
    {
      "cell_type": "markdown",
      "source": [
        "#####The data provided describes the properties of the houses sold in Ames, Iowa. The objective of the problem is to predict the prices of houses in the same city. So it covers the area of interest.\n",
        "\n",
        "#####All the data provided describes houses within the Ames city limits so it is not too expansive"
      ],
      "metadata": {
        "id": "hb-HsMLtAMg8"
      }
    },
    {
      "cell_type": "markdown",
      "source": [
        "####Temporality"
      ],
      "metadata": {
        "id": "-bp7OntfCH2Q"
      }
    },
    {
      "cell_type": "markdown",
      "source": [
        "#####From the given data, it is not possible to know when the data was recorded, only when the houses were sold. The most we can do is try to find out when the file was created, although that may still not give us the exact date and time the actual data itself was collected.\n",
        "#####Addressing the comment from Stage1's evaluation : From when to when? \n",
        "#####We can say that the first house was sold in 2006 and the last one was sold in 2010. In retrospect, I think it's not the biggest concern. I initially thought not knowing when the data was recorded would affect our understanding of the sale price, adjusting for inflation and market demand. But if we were to suppose that the sale price is reflective of the year it was sold, we can adjust for environment changes accordingly."
      ],
      "metadata": {
        "id": "-xKfXLi_Cc-7"
      }
    },
    {
      "cell_type": "markdown",
      "source": [
        "####Faithfulness"
      ],
      "metadata": {
        "id": "ifgaWYAICwwT"
      }
    },
    {
      "cell_type": "code",
      "source": [
        "for column in df_train.columns.values:\n",
        "  print(df_train[column].describe())\n",
        "  print('\\n')"
      ],
      "metadata": {
        "colab": {
          "base_uri": "https://localhost:8080/"
        },
        "id": "Q1hoZAr4JFU6",
        "outputId": "39c08081-49ec-407f-b8a7-a94d6f601310"
      },
      "execution_count": 93,
      "outputs": [
        {
          "output_type": "stream",
          "name": "stdout",
          "text": [
            "count    1460.000000\n",
            "mean      730.500000\n",
            "std       421.610009\n",
            "min         1.000000\n",
            "25%       365.750000\n",
            "50%       730.500000\n",
            "75%      1095.250000\n",
            "max      1460.000000\n",
            "Name: Id, dtype: float64\n",
            "\n",
            "\n",
            "count    1460.000000\n",
            "mean       56.897260\n",
            "std        42.300571\n",
            "min        20.000000\n",
            "25%        20.000000\n",
            "50%        50.000000\n",
            "75%        70.000000\n",
            "max       190.000000\n",
            "Name: MSSubClass, dtype: float64\n",
            "\n",
            "\n",
            "count     1460\n",
            "unique       5\n",
            "top         RL\n",
            "freq      1151\n",
            "Name: MSZoning, dtype: object\n",
            "\n",
            "\n",
            "count    1201.000000\n",
            "mean       70.049958\n",
            "std        24.284752\n",
            "min        21.000000\n",
            "25%        59.000000\n",
            "50%        69.000000\n",
            "75%        80.000000\n",
            "max       313.000000\n",
            "Name: LotFrontage, dtype: float64\n",
            "\n",
            "\n",
            "count      1460.000000\n",
            "mean      10516.828082\n",
            "std        9981.264932\n",
            "min        1300.000000\n",
            "25%        7553.500000\n",
            "50%        9478.500000\n",
            "75%       11601.500000\n",
            "max      215245.000000\n",
            "Name: LotArea, dtype: float64\n",
            "\n",
            "\n",
            "count     1460\n",
            "unique       2\n",
            "top       Pave\n",
            "freq      1454\n",
            "Name: Street, dtype: object\n",
            "\n",
            "\n",
            "count       91\n",
            "unique       2\n",
            "top       Grvl\n",
            "freq        50\n",
            "Name: Alley, dtype: object\n",
            "\n",
            "\n",
            "count     1460\n",
            "unique       4\n",
            "top        Reg\n",
            "freq       925\n",
            "Name: LotShape, dtype: object\n",
            "\n",
            "\n",
            "count     1460\n",
            "unique       4\n",
            "top        Lvl\n",
            "freq      1311\n",
            "Name: LandContour, dtype: object\n",
            "\n",
            "\n",
            "count       1460\n",
            "unique         2\n",
            "top       AllPub\n",
            "freq        1459\n",
            "Name: Utilities, dtype: object\n",
            "\n",
            "\n",
            "count       1460\n",
            "unique         5\n",
            "top       Inside\n",
            "freq        1052\n",
            "Name: LotConfig, dtype: object\n",
            "\n",
            "\n",
            "count     1460\n",
            "unique       3\n",
            "top        Gtl\n",
            "freq      1382\n",
            "Name: LandSlope, dtype: object\n",
            "\n",
            "\n",
            "count      1460\n",
            "unique       25\n",
            "top       NAmes\n",
            "freq        225\n",
            "Name: Neighborhood, dtype: object\n",
            "\n",
            "\n",
            "count     1460\n",
            "unique       9\n",
            "top       Norm\n",
            "freq      1260\n",
            "Name: Condition1, dtype: object\n",
            "\n",
            "\n",
            "count     1460\n",
            "unique       8\n",
            "top       Norm\n",
            "freq      1445\n",
            "Name: Condition2, dtype: object\n",
            "\n",
            "\n",
            "count     1460\n",
            "unique       5\n",
            "top       1Fam\n",
            "freq      1220\n",
            "Name: BldgType, dtype: object\n",
            "\n",
            "\n",
            "count       1460\n",
            "unique         8\n",
            "top       1Story\n",
            "freq         726\n",
            "Name: HouseStyle, dtype: object\n",
            "\n",
            "\n",
            "count    1460.000000\n",
            "mean        6.099315\n",
            "std         1.382997\n",
            "min         1.000000\n",
            "25%         5.000000\n",
            "50%         6.000000\n",
            "75%         7.000000\n",
            "max        10.000000\n",
            "Name: OverallQual, dtype: float64\n",
            "\n",
            "\n",
            "count    1460.000000\n",
            "mean        5.575342\n",
            "std         1.112799\n",
            "min         1.000000\n",
            "25%         5.000000\n",
            "50%         5.000000\n",
            "75%         6.000000\n",
            "max         9.000000\n",
            "Name: OverallCond, dtype: float64\n",
            "\n",
            "\n",
            "count    1460.000000\n",
            "mean     1971.267808\n",
            "std        30.202904\n",
            "min      1872.000000\n",
            "25%      1954.000000\n",
            "50%      1973.000000\n",
            "75%      2000.000000\n",
            "max      2010.000000\n",
            "Name: YearBuilt, dtype: float64\n",
            "\n",
            "\n",
            "count    1460.000000\n",
            "mean     1984.865753\n",
            "std        20.645407\n",
            "min      1950.000000\n",
            "25%      1967.000000\n",
            "50%      1994.000000\n",
            "75%      2004.000000\n",
            "max      2010.000000\n",
            "Name: YearRemodAdd, dtype: float64\n",
            "\n",
            "\n",
            "count      1460\n",
            "unique        6\n",
            "top       Gable\n",
            "freq       1141\n",
            "Name: RoofStyle, dtype: object\n",
            "\n",
            "\n",
            "count        1460\n",
            "unique          8\n",
            "top       CompShg\n",
            "freq         1434\n",
            "Name: RoofMatl, dtype: object\n",
            "\n",
            "\n",
            "count        1460\n",
            "unique         15\n",
            "top       VinylSd\n",
            "freq          515\n",
            "Name: Exterior1st, dtype: object\n",
            "\n",
            "\n",
            "count        1460\n",
            "unique         16\n",
            "top       VinylSd\n",
            "freq          504\n",
            "Name: Exterior2nd, dtype: object\n",
            "\n",
            "\n",
            "count     1452\n",
            "unique       4\n",
            "top       None\n",
            "freq       864\n",
            "Name: MasVnrType, dtype: object\n",
            "\n",
            "\n",
            "count    1452.000000\n",
            "mean      103.685262\n",
            "std       181.066207\n",
            "min         0.000000\n",
            "25%         0.000000\n",
            "50%         0.000000\n",
            "75%       166.000000\n",
            "max      1600.000000\n",
            "Name: MasVnrArea, dtype: float64\n",
            "\n",
            "\n",
            "count     1460\n",
            "unique       4\n",
            "top         TA\n",
            "freq       906\n",
            "Name: ExterQual, dtype: object\n",
            "\n",
            "\n",
            "count     1460\n",
            "unique       5\n",
            "top         TA\n",
            "freq      1282\n",
            "Name: ExterCond, dtype: object\n",
            "\n",
            "\n",
            "count      1460\n",
            "unique        6\n",
            "top       PConc\n",
            "freq        647\n",
            "Name: Foundation, dtype: object\n",
            "\n",
            "\n",
            "count     1423\n",
            "unique       4\n",
            "top         TA\n",
            "freq       649\n",
            "Name: BsmtQual, dtype: object\n",
            "\n",
            "\n",
            "count     1423\n",
            "unique       4\n",
            "top         TA\n",
            "freq      1311\n",
            "Name: BsmtCond, dtype: object\n",
            "\n",
            "\n",
            "count     1422\n",
            "unique       4\n",
            "top         No\n",
            "freq       953\n",
            "Name: BsmtExposure, dtype: object\n",
            "\n",
            "\n",
            "count     1423\n",
            "unique       6\n",
            "top        Unf\n",
            "freq       430\n",
            "Name: BsmtFinType1, dtype: object\n",
            "\n",
            "\n",
            "count    1460.000000\n",
            "mean      443.639726\n",
            "std       456.098091\n",
            "min         0.000000\n",
            "25%         0.000000\n",
            "50%       383.500000\n",
            "75%       712.250000\n",
            "max      5644.000000\n",
            "Name: BsmtFinSF1, dtype: float64\n",
            "\n",
            "\n",
            "count     1422\n",
            "unique       6\n",
            "top        Unf\n",
            "freq      1256\n",
            "Name: BsmtFinType2, dtype: object\n",
            "\n",
            "\n",
            "count    1460.000000\n",
            "mean       46.549315\n",
            "std       161.319273\n",
            "min         0.000000\n",
            "25%         0.000000\n",
            "50%         0.000000\n",
            "75%         0.000000\n",
            "max      1474.000000\n",
            "Name: BsmtFinSF2, dtype: float64\n",
            "\n",
            "\n",
            "count    1460.000000\n",
            "mean      567.240411\n",
            "std       441.866955\n",
            "min         0.000000\n",
            "25%       223.000000\n",
            "50%       477.500000\n",
            "75%       808.000000\n",
            "max      2336.000000\n",
            "Name: BsmtUnfSF, dtype: float64\n",
            "\n",
            "\n",
            "count    1460.000000\n",
            "mean     1057.429452\n",
            "std       438.705324\n",
            "min         0.000000\n",
            "25%       795.750000\n",
            "50%       991.500000\n",
            "75%      1298.250000\n",
            "max      6110.000000\n",
            "Name: TotalBsmtSF, dtype: float64\n",
            "\n",
            "\n",
            "count     1460\n",
            "unique       6\n",
            "top       GasA\n",
            "freq      1428\n",
            "Name: Heating, dtype: object\n",
            "\n",
            "\n",
            "count     1460\n",
            "unique       5\n",
            "top         Ex\n",
            "freq       741\n",
            "Name: HeatingQC, dtype: object\n",
            "\n",
            "\n",
            "count     1460\n",
            "unique       2\n",
            "top          Y\n",
            "freq      1365\n",
            "Name: CentralAir, dtype: object\n",
            "\n",
            "\n",
            "count      1459\n",
            "unique        5\n",
            "top       SBrkr\n",
            "freq       1334\n",
            "Name: Electrical, dtype: object\n",
            "\n",
            "\n",
            "count    1460.000000\n",
            "mean     1162.626712\n",
            "std       386.587738\n",
            "min       334.000000\n",
            "25%       882.000000\n",
            "50%      1087.000000\n",
            "75%      1391.250000\n",
            "max      4692.000000\n",
            "Name: 1stFlrSF, dtype: float64\n",
            "\n",
            "\n",
            "count    1460.000000\n",
            "mean      346.992466\n",
            "std       436.528436\n",
            "min         0.000000\n",
            "25%         0.000000\n",
            "50%         0.000000\n",
            "75%       728.000000\n",
            "max      2065.000000\n",
            "Name: 2ndFlrSF, dtype: float64\n",
            "\n",
            "\n",
            "count    1460.000000\n",
            "mean        5.844521\n",
            "std        48.623081\n",
            "min         0.000000\n",
            "25%         0.000000\n",
            "50%         0.000000\n",
            "75%         0.000000\n",
            "max       572.000000\n",
            "Name: LowQualFinSF, dtype: float64\n",
            "\n",
            "\n",
            "count    1460.000000\n",
            "mean     1515.463699\n",
            "std       525.480383\n",
            "min       334.000000\n",
            "25%      1129.500000\n",
            "50%      1464.000000\n",
            "75%      1776.750000\n",
            "max      5642.000000\n",
            "Name: GrLivArea, dtype: float64\n",
            "\n",
            "\n",
            "count    1460.000000\n",
            "mean        0.425342\n",
            "std         0.518911\n",
            "min         0.000000\n",
            "25%         0.000000\n",
            "50%         0.000000\n",
            "75%         1.000000\n",
            "max         3.000000\n",
            "Name: BsmtFullBath, dtype: float64\n",
            "\n",
            "\n",
            "count    1460.000000\n",
            "mean        0.057534\n",
            "std         0.238753\n",
            "min         0.000000\n",
            "25%         0.000000\n",
            "50%         0.000000\n",
            "75%         0.000000\n",
            "max         2.000000\n",
            "Name: BsmtHalfBath, dtype: float64\n",
            "\n",
            "\n",
            "count    1460.000000\n",
            "mean        1.565068\n",
            "std         0.550916\n",
            "min         0.000000\n",
            "25%         1.000000\n",
            "50%         2.000000\n",
            "75%         2.000000\n",
            "max         3.000000\n",
            "Name: FullBath, dtype: float64\n",
            "\n",
            "\n",
            "count    1460.000000\n",
            "mean        0.382877\n",
            "std         0.502885\n",
            "min         0.000000\n",
            "25%         0.000000\n",
            "50%         0.000000\n",
            "75%         1.000000\n",
            "max         2.000000\n",
            "Name: HalfBath, dtype: float64\n",
            "\n",
            "\n",
            "count    1460.000000\n",
            "mean        2.866438\n",
            "std         0.815778\n",
            "min         0.000000\n",
            "25%         2.000000\n",
            "50%         3.000000\n",
            "75%         3.000000\n",
            "max         8.000000\n",
            "Name: BedroomAbvGr, dtype: float64\n",
            "\n",
            "\n",
            "count    1460.000000\n",
            "mean        1.046575\n",
            "std         0.220338\n",
            "min         0.000000\n",
            "25%         1.000000\n",
            "50%         1.000000\n",
            "75%         1.000000\n",
            "max         3.000000\n",
            "Name: KitchenAbvGr, dtype: float64\n",
            "\n",
            "\n",
            "count     1460\n",
            "unique       4\n",
            "top         TA\n",
            "freq       735\n",
            "Name: KitchenQual, dtype: object\n",
            "\n",
            "\n",
            "count    1460.000000\n",
            "mean        6.517808\n",
            "std         1.625393\n",
            "min         2.000000\n",
            "25%         5.000000\n",
            "50%         6.000000\n",
            "75%         7.000000\n",
            "max        14.000000\n",
            "Name: TotRmsAbvGrd, dtype: float64\n",
            "\n",
            "\n",
            "count     1460\n",
            "unique       7\n",
            "top        Typ\n",
            "freq      1360\n",
            "Name: Functional, dtype: object\n",
            "\n",
            "\n",
            "count    1460.000000\n",
            "mean        0.613014\n",
            "std         0.644666\n",
            "min         0.000000\n",
            "25%         0.000000\n",
            "50%         1.000000\n",
            "75%         1.000000\n",
            "max         3.000000\n",
            "Name: Fireplaces, dtype: float64\n",
            "\n",
            "\n",
            "count     770\n",
            "unique      5\n",
            "top        Gd\n",
            "freq      380\n",
            "Name: FireplaceQu, dtype: object\n",
            "\n",
            "\n",
            "count       1379\n",
            "unique         6\n",
            "top       Attchd\n",
            "freq         870\n",
            "Name: GarageType, dtype: object\n",
            "\n",
            "\n",
            "count    1379.000000\n",
            "mean     1978.506164\n",
            "std        24.689725\n",
            "min      1900.000000\n",
            "25%      1961.000000\n",
            "50%      1980.000000\n",
            "75%      2002.000000\n",
            "max      2010.000000\n",
            "Name: GarageYrBlt, dtype: float64\n",
            "\n",
            "\n",
            "count     1379\n",
            "unique       3\n",
            "top        Unf\n",
            "freq       605\n",
            "Name: GarageFinish, dtype: object\n",
            "\n",
            "\n",
            "count    1460.000000\n",
            "mean        1.767123\n",
            "std         0.747315\n",
            "min         0.000000\n",
            "25%         1.000000\n",
            "50%         2.000000\n",
            "75%         2.000000\n",
            "max         4.000000\n",
            "Name: GarageCars, dtype: float64\n",
            "\n",
            "\n",
            "count    1460.000000\n",
            "mean      472.980137\n",
            "std       213.804841\n",
            "min         0.000000\n",
            "25%       334.500000\n",
            "50%       480.000000\n",
            "75%       576.000000\n",
            "max      1418.000000\n",
            "Name: GarageArea, dtype: float64\n",
            "\n",
            "\n",
            "count     1379\n",
            "unique       5\n",
            "top         TA\n",
            "freq      1311\n",
            "Name: GarageQual, dtype: object\n",
            "\n",
            "\n",
            "count     1379\n",
            "unique       5\n",
            "top         TA\n",
            "freq      1326\n",
            "Name: GarageCond, dtype: object\n",
            "\n",
            "\n",
            "count     1460\n",
            "unique       3\n",
            "top          Y\n",
            "freq      1340\n",
            "Name: PavedDrive, dtype: object\n",
            "\n",
            "\n",
            "count    1460.000000\n",
            "mean       94.244521\n",
            "std       125.338794\n",
            "min         0.000000\n",
            "25%         0.000000\n",
            "50%         0.000000\n",
            "75%       168.000000\n",
            "max       857.000000\n",
            "Name: WoodDeckSF, dtype: float64\n",
            "\n",
            "\n",
            "count    1460.000000\n",
            "mean       46.660274\n",
            "std        66.256028\n",
            "min         0.000000\n",
            "25%         0.000000\n",
            "50%        25.000000\n",
            "75%        68.000000\n",
            "max       547.000000\n",
            "Name: OpenPorchSF, dtype: float64\n",
            "\n",
            "\n",
            "count    1460.000000\n",
            "mean       21.954110\n",
            "std        61.119149\n",
            "min         0.000000\n",
            "25%         0.000000\n",
            "50%         0.000000\n",
            "75%         0.000000\n",
            "max       552.000000\n",
            "Name: EnclosedPorch, dtype: float64\n",
            "\n",
            "\n",
            "count    1460.000000\n",
            "mean        3.409589\n",
            "std        29.317331\n",
            "min         0.000000\n",
            "25%         0.000000\n",
            "50%         0.000000\n",
            "75%         0.000000\n",
            "max       508.000000\n",
            "Name: 3SsnPorch, dtype: float64\n",
            "\n",
            "\n",
            "count    1460.000000\n",
            "mean       15.060959\n",
            "std        55.757415\n",
            "min         0.000000\n",
            "25%         0.000000\n",
            "50%         0.000000\n",
            "75%         0.000000\n",
            "max       480.000000\n",
            "Name: ScreenPorch, dtype: float64\n",
            "\n",
            "\n",
            "count    1460.000000\n",
            "mean        2.758904\n",
            "std        40.177307\n",
            "min         0.000000\n",
            "25%         0.000000\n",
            "50%         0.000000\n",
            "75%         0.000000\n",
            "max       738.000000\n",
            "Name: PoolArea, dtype: float64\n",
            "\n",
            "\n",
            "count      7\n",
            "unique     3\n",
            "top       Gd\n",
            "freq       3\n",
            "Name: PoolQC, dtype: object\n",
            "\n",
            "\n",
            "count       281\n",
            "unique        4\n",
            "top       MnPrv\n",
            "freq        157\n",
            "Name: Fence, dtype: object\n",
            "\n",
            "\n",
            "count       54\n",
            "unique       4\n",
            "top       Shed\n",
            "freq        49\n",
            "Name: MiscFeature, dtype: object\n",
            "\n",
            "\n",
            "count     1460.000000\n",
            "mean        43.489041\n",
            "std        496.123024\n",
            "min          0.000000\n",
            "25%          0.000000\n",
            "50%          0.000000\n",
            "75%          0.000000\n",
            "max      15500.000000\n",
            "Name: MiscVal, dtype: float64\n",
            "\n",
            "\n",
            "count    1460.000000\n",
            "mean        6.321918\n",
            "std         2.703626\n",
            "min         1.000000\n",
            "25%         5.000000\n",
            "50%         6.000000\n",
            "75%         8.000000\n",
            "max        12.000000\n",
            "Name: MoSold, dtype: float64\n",
            "\n",
            "\n",
            "count    1460.000000\n",
            "mean     2007.815753\n",
            "std         1.328095\n",
            "min      2006.000000\n",
            "25%      2007.000000\n",
            "50%      2008.000000\n",
            "75%      2009.000000\n",
            "max      2010.000000\n",
            "Name: YrSold, dtype: float64\n",
            "\n",
            "\n",
            "count     1460\n",
            "unique       9\n",
            "top         WD\n",
            "freq      1267\n",
            "Name: SaleType, dtype: object\n",
            "\n",
            "\n",
            "count       1460\n",
            "unique         6\n",
            "top       Normal\n",
            "freq        1198\n",
            "Name: SaleCondition, dtype: object\n",
            "\n",
            "\n",
            "count      1460.000000\n",
            "mean     180921.195890\n",
            "std       79442.502883\n",
            "min       34900.000000\n",
            "25%      129975.000000\n",
            "50%      163000.000000\n",
            "75%      214000.000000\n",
            "max      755000.000000\n",
            "Name: SalePrice, dtype: float64\n",
            "\n",
            "\n"
          ]
        }
      ]
    },
    {
      "cell_type": "markdown",
      "source": [
        "#####There appears to be no data that doesn't make sense. However, we may have missing values and maybe even useless variables"
      ],
      "metadata": {
        "id": "YBsSjDWsJ2am"
      }
    },
    {
      "cell_type": "code",
      "source": [
        "df_test = pd.read_csv('test.csv')\n",
        "df_test.head()"
      ],
      "metadata": {
        "colab": {
          "base_uri": "https://localhost:8080/",
          "height": 0
        },
        "id": "_s0SziMVKUSc",
        "outputId": "93fea1f0-b8b2-46e2-bed0-851255003c8e"
      },
      "execution_count": 94,
      "outputs": [
        {
          "output_type": "execute_result",
          "data": {
            "text/plain": [
              "     Id  MSSubClass MSZoning  LotFrontage  LotArea Street Alley LotShape  \\\n",
              "0  1461          20       RH         80.0    11622   Pave   NaN      Reg   \n",
              "1  1462          20       RL         81.0    14267   Pave   NaN      IR1   \n",
              "2  1463          60       RL         74.0    13830   Pave   NaN      IR1   \n",
              "3  1464          60       RL         78.0     9978   Pave   NaN      IR1   \n",
              "4  1465         120       RL         43.0     5005   Pave   NaN      IR1   \n",
              "\n",
              "  LandContour Utilities  ... ScreenPorch PoolArea PoolQC  Fence MiscFeature  \\\n",
              "0         Lvl    AllPub  ...         120        0    NaN  MnPrv         NaN   \n",
              "1         Lvl    AllPub  ...           0        0    NaN    NaN        Gar2   \n",
              "2         Lvl    AllPub  ...           0        0    NaN  MnPrv         NaN   \n",
              "3         Lvl    AllPub  ...           0        0    NaN    NaN         NaN   \n",
              "4         HLS    AllPub  ...         144        0    NaN    NaN         NaN   \n",
              "\n",
              "  MiscVal MoSold  YrSold  SaleType  SaleCondition  \n",
              "0       0      6    2010        WD         Normal  \n",
              "1   12500      6    2010        WD         Normal  \n",
              "2       0      3    2010        WD         Normal  \n",
              "3       0      6    2010        WD         Normal  \n",
              "4       0      1    2010        WD         Normal  \n",
              "\n",
              "[5 rows x 80 columns]"
            ],
            "text/html": [
              "\n",
              "  <div id=\"df-6ddc6f3b-9c19-47f9-8fe7-16aa545ee583\">\n",
              "    <div class=\"colab-df-container\">\n",
              "      <div>\n",
              "<style scoped>\n",
              "    .dataframe tbody tr th:only-of-type {\n",
              "        vertical-align: middle;\n",
              "    }\n",
              "\n",
              "    .dataframe tbody tr th {\n",
              "        vertical-align: top;\n",
              "    }\n",
              "\n",
              "    .dataframe thead th {\n",
              "        text-align: right;\n",
              "    }\n",
              "</style>\n",
              "<table border=\"1\" class=\"dataframe\">\n",
              "  <thead>\n",
              "    <tr style=\"text-align: right;\">\n",
              "      <th></th>\n",
              "      <th>Id</th>\n",
              "      <th>MSSubClass</th>\n",
              "      <th>MSZoning</th>\n",
              "      <th>LotFrontage</th>\n",
              "      <th>LotArea</th>\n",
              "      <th>Street</th>\n",
              "      <th>Alley</th>\n",
              "      <th>LotShape</th>\n",
              "      <th>LandContour</th>\n",
              "      <th>Utilities</th>\n",
              "      <th>...</th>\n",
              "      <th>ScreenPorch</th>\n",
              "      <th>PoolArea</th>\n",
              "      <th>PoolQC</th>\n",
              "      <th>Fence</th>\n",
              "      <th>MiscFeature</th>\n",
              "      <th>MiscVal</th>\n",
              "      <th>MoSold</th>\n",
              "      <th>YrSold</th>\n",
              "      <th>SaleType</th>\n",
              "      <th>SaleCondition</th>\n",
              "    </tr>\n",
              "  </thead>\n",
              "  <tbody>\n",
              "    <tr>\n",
              "      <th>0</th>\n",
              "      <td>1461</td>\n",
              "      <td>20</td>\n",
              "      <td>RH</td>\n",
              "      <td>80.0</td>\n",
              "      <td>11622</td>\n",
              "      <td>Pave</td>\n",
              "      <td>NaN</td>\n",
              "      <td>Reg</td>\n",
              "      <td>Lvl</td>\n",
              "      <td>AllPub</td>\n",
              "      <td>...</td>\n",
              "      <td>120</td>\n",
              "      <td>0</td>\n",
              "      <td>NaN</td>\n",
              "      <td>MnPrv</td>\n",
              "      <td>NaN</td>\n",
              "      <td>0</td>\n",
              "      <td>6</td>\n",
              "      <td>2010</td>\n",
              "      <td>WD</td>\n",
              "      <td>Normal</td>\n",
              "    </tr>\n",
              "    <tr>\n",
              "      <th>1</th>\n",
              "      <td>1462</td>\n",
              "      <td>20</td>\n",
              "      <td>RL</td>\n",
              "      <td>81.0</td>\n",
              "      <td>14267</td>\n",
              "      <td>Pave</td>\n",
              "      <td>NaN</td>\n",
              "      <td>IR1</td>\n",
              "      <td>Lvl</td>\n",
              "      <td>AllPub</td>\n",
              "      <td>...</td>\n",
              "      <td>0</td>\n",
              "      <td>0</td>\n",
              "      <td>NaN</td>\n",
              "      <td>NaN</td>\n",
              "      <td>Gar2</td>\n",
              "      <td>12500</td>\n",
              "      <td>6</td>\n",
              "      <td>2010</td>\n",
              "      <td>WD</td>\n",
              "      <td>Normal</td>\n",
              "    </tr>\n",
              "    <tr>\n",
              "      <th>2</th>\n",
              "      <td>1463</td>\n",
              "      <td>60</td>\n",
              "      <td>RL</td>\n",
              "      <td>74.0</td>\n",
              "      <td>13830</td>\n",
              "      <td>Pave</td>\n",
              "      <td>NaN</td>\n",
              "      <td>IR1</td>\n",
              "      <td>Lvl</td>\n",
              "      <td>AllPub</td>\n",
              "      <td>...</td>\n",
              "      <td>0</td>\n",
              "      <td>0</td>\n",
              "      <td>NaN</td>\n",
              "      <td>MnPrv</td>\n",
              "      <td>NaN</td>\n",
              "      <td>0</td>\n",
              "      <td>3</td>\n",
              "      <td>2010</td>\n",
              "      <td>WD</td>\n",
              "      <td>Normal</td>\n",
              "    </tr>\n",
              "    <tr>\n",
              "      <th>3</th>\n",
              "      <td>1464</td>\n",
              "      <td>60</td>\n",
              "      <td>RL</td>\n",
              "      <td>78.0</td>\n",
              "      <td>9978</td>\n",
              "      <td>Pave</td>\n",
              "      <td>NaN</td>\n",
              "      <td>IR1</td>\n",
              "      <td>Lvl</td>\n",
              "      <td>AllPub</td>\n",
              "      <td>...</td>\n",
              "      <td>0</td>\n",
              "      <td>0</td>\n",
              "      <td>NaN</td>\n",
              "      <td>NaN</td>\n",
              "      <td>NaN</td>\n",
              "      <td>0</td>\n",
              "      <td>6</td>\n",
              "      <td>2010</td>\n",
              "      <td>WD</td>\n",
              "      <td>Normal</td>\n",
              "    </tr>\n",
              "    <tr>\n",
              "      <th>4</th>\n",
              "      <td>1465</td>\n",
              "      <td>120</td>\n",
              "      <td>RL</td>\n",
              "      <td>43.0</td>\n",
              "      <td>5005</td>\n",
              "      <td>Pave</td>\n",
              "      <td>NaN</td>\n",
              "      <td>IR1</td>\n",
              "      <td>HLS</td>\n",
              "      <td>AllPub</td>\n",
              "      <td>...</td>\n",
              "      <td>144</td>\n",
              "      <td>0</td>\n",
              "      <td>NaN</td>\n",
              "      <td>NaN</td>\n",
              "      <td>NaN</td>\n",
              "      <td>0</td>\n",
              "      <td>1</td>\n",
              "      <td>2010</td>\n",
              "      <td>WD</td>\n",
              "      <td>Normal</td>\n",
              "    </tr>\n",
              "  </tbody>\n",
              "</table>\n",
              "<p>5 rows × 80 columns</p>\n",
              "</div>\n",
              "      <button class=\"colab-df-convert\" onclick=\"convertToInteractive('df-6ddc6f3b-9c19-47f9-8fe7-16aa545ee583')\"\n",
              "              title=\"Convert this dataframe to an interactive table.\"\n",
              "              style=\"display:none;\">\n",
              "        \n",
              "  <svg xmlns=\"http://www.w3.org/2000/svg\" height=\"24px\"viewBox=\"0 0 24 24\"\n",
              "       width=\"24px\">\n",
              "    <path d=\"M0 0h24v24H0V0z\" fill=\"none\"/>\n",
              "    <path d=\"M18.56 5.44l.94 2.06.94-2.06 2.06-.94-2.06-.94-.94-2.06-.94 2.06-2.06.94zm-11 1L8.5 8.5l.94-2.06 2.06-.94-2.06-.94L8.5 2.5l-.94 2.06-2.06.94zm10 10l.94 2.06.94-2.06 2.06-.94-2.06-.94-.94-2.06-.94 2.06-2.06.94z\"/><path d=\"M17.41 7.96l-1.37-1.37c-.4-.4-.92-.59-1.43-.59-.52 0-1.04.2-1.43.59L10.3 9.45l-7.72 7.72c-.78.78-.78 2.05 0 2.83L4 21.41c.39.39.9.59 1.41.59.51 0 1.02-.2 1.41-.59l7.78-7.78 2.81-2.81c.8-.78.8-2.07 0-2.86zM5.41 20L4 18.59l7.72-7.72 1.47 1.35L5.41 20z\"/>\n",
              "  </svg>\n",
              "      </button>\n",
              "      \n",
              "  <style>\n",
              "    .colab-df-container {\n",
              "      display:flex;\n",
              "      flex-wrap:wrap;\n",
              "      gap: 12px;\n",
              "    }\n",
              "\n",
              "    .colab-df-convert {\n",
              "      background-color: #E8F0FE;\n",
              "      border: none;\n",
              "      border-radius: 50%;\n",
              "      cursor: pointer;\n",
              "      display: none;\n",
              "      fill: #1967D2;\n",
              "      height: 32px;\n",
              "      padding: 0 0 0 0;\n",
              "      width: 32px;\n",
              "    }\n",
              "\n",
              "    .colab-df-convert:hover {\n",
              "      background-color: #E2EBFA;\n",
              "      box-shadow: 0px 1px 2px rgba(60, 64, 67, 0.3), 0px 1px 3px 1px rgba(60, 64, 67, 0.15);\n",
              "      fill: #174EA6;\n",
              "    }\n",
              "\n",
              "    [theme=dark] .colab-df-convert {\n",
              "      background-color: #3B4455;\n",
              "      fill: #D2E3FC;\n",
              "    }\n",
              "\n",
              "    [theme=dark] .colab-df-convert:hover {\n",
              "      background-color: #434B5C;\n",
              "      box-shadow: 0px 1px 3px 1px rgba(0, 0, 0, 0.15);\n",
              "      filter: drop-shadow(0px 1px 2px rgba(0, 0, 0, 0.3));\n",
              "      fill: #FFFFFF;\n",
              "    }\n",
              "  </style>\n",
              "\n",
              "      <script>\n",
              "        const buttonEl =\n",
              "          document.querySelector('#df-6ddc6f3b-9c19-47f9-8fe7-16aa545ee583 button.colab-df-convert');\n",
              "        buttonEl.style.display =\n",
              "          google.colab.kernel.accessAllowed ? 'block' : 'none';\n",
              "\n",
              "        async function convertToInteractive(key) {\n",
              "          const element = document.querySelector('#df-6ddc6f3b-9c19-47f9-8fe7-16aa545ee583');\n",
              "          const dataTable =\n",
              "            await google.colab.kernel.invokeFunction('convertToInteractive',\n",
              "                                                     [key], {});\n",
              "          if (!dataTable) return;\n",
              "\n",
              "          const docLinkHtml = 'Like what you see? Visit the ' +\n",
              "            '<a target=\"_blank\" href=https://colab.research.google.com/notebooks/data_table.ipynb>data table notebook</a>'\n",
              "            + ' to learn more about interactive tables.';\n",
              "          element.innerHTML = '';\n",
              "          dataTable['output_type'] = 'display_data';\n",
              "          await google.colab.output.renderOutput(dataTable, element);\n",
              "          const docLink = document.createElement('div');\n",
              "          docLink.innerHTML = docLinkHtml;\n",
              "          element.appendChild(docLink);\n",
              "        }\n",
              "      </script>\n",
              "    </div>\n",
              "  </div>\n",
              "  "
            ]
          },
          "metadata": {},
          "execution_count": 94
        }
      ]
    },
    {
      "cell_type": "code",
      "source": [
        "#Upon completing this project I realized I needed to do all the transformations I did on the training data to the test data also. So I decided to load all the data together\n",
        "#and do it just once instead of repeating the steps. So henceforth, df_train is actually all the data\n",
        "y_train = df_train['SalePrice']\n",
        "test_id = df_test['Id']\n",
        "df_train = pd.concat([df_train,df_test], axis=0, sort=False)\n",
        "df_train = df_train.drop(['Id','SalePrice'], axis=1)"
      ],
      "metadata": {
        "id": "vsEaOFmvL075"
      },
      "execution_count": 95,
      "outputs": []
    },
    {
      "cell_type": "code",
      "source": [
        "#Checking number of missing values and percentage of missing values. This will help elimination of features.\n",
        "total = df_train.isnull().sum().sort_values(ascending=False)\n",
        "percent = (df_train.isnull().sum()/df_train.isnull().count()).sort_values(ascending=False)\n",
        "missing_data = pd.concat([total, percent], axis=1, keys=['Total', 'Percent'])\n",
        "missing_data.head(25)"
      ],
      "metadata": {
        "colab": {
          "base_uri": "https://localhost:8080/",
          "height": 0
        },
        "id": "4DiDHisSDTzF",
        "outputId": "81a83b40-7743-4114-deef-cf6a8fe3dfda"
      },
      "execution_count": 96,
      "outputs": [
        {
          "output_type": "execute_result",
          "data": {
            "text/plain": [
              "              Total   Percent\n",
              "PoolQC         2909  0.996574\n",
              "MiscFeature    2814  0.964029\n",
              "Alley          2721  0.932169\n",
              "Fence          2348  0.804385\n",
              "FireplaceQu    1420  0.486468\n",
              "LotFrontage     486  0.166495\n",
              "GarageYrBlt     159  0.054471\n",
              "GarageFinish    159  0.054471\n",
              "GarageQual      159  0.054471\n",
              "GarageCond      159  0.054471\n",
              "GarageType      157  0.053786\n",
              "BsmtExposure     82  0.028092\n",
              "BsmtCond         82  0.028092\n",
              "BsmtQual         81  0.027749\n",
              "BsmtFinType2     80  0.027407\n",
              "BsmtFinType1     79  0.027064\n",
              "MasVnrType       24  0.008222\n",
              "MasVnrArea       23  0.007879\n",
              "MSZoning          4  0.001370\n",
              "Functional        2  0.000685\n",
              "BsmtHalfBath      2  0.000685\n",
              "BsmtFullBath      2  0.000685\n",
              "Utilities         2  0.000685\n",
              "SaleType          1  0.000343\n",
              "BsmtFinSF1        1  0.000343"
            ],
            "text/html": [
              "\n",
              "  <div id=\"df-b4f65358-608a-4d99-b70f-735f90ace19c\">\n",
              "    <div class=\"colab-df-container\">\n",
              "      <div>\n",
              "<style scoped>\n",
              "    .dataframe tbody tr th:only-of-type {\n",
              "        vertical-align: middle;\n",
              "    }\n",
              "\n",
              "    .dataframe tbody tr th {\n",
              "        vertical-align: top;\n",
              "    }\n",
              "\n",
              "    .dataframe thead th {\n",
              "        text-align: right;\n",
              "    }\n",
              "</style>\n",
              "<table border=\"1\" class=\"dataframe\">\n",
              "  <thead>\n",
              "    <tr style=\"text-align: right;\">\n",
              "      <th></th>\n",
              "      <th>Total</th>\n",
              "      <th>Percent</th>\n",
              "    </tr>\n",
              "  </thead>\n",
              "  <tbody>\n",
              "    <tr>\n",
              "      <th>PoolQC</th>\n",
              "      <td>2909</td>\n",
              "      <td>0.996574</td>\n",
              "    </tr>\n",
              "    <tr>\n",
              "      <th>MiscFeature</th>\n",
              "      <td>2814</td>\n",
              "      <td>0.964029</td>\n",
              "    </tr>\n",
              "    <tr>\n",
              "      <th>Alley</th>\n",
              "      <td>2721</td>\n",
              "      <td>0.932169</td>\n",
              "    </tr>\n",
              "    <tr>\n",
              "      <th>Fence</th>\n",
              "      <td>2348</td>\n",
              "      <td>0.804385</td>\n",
              "    </tr>\n",
              "    <tr>\n",
              "      <th>FireplaceQu</th>\n",
              "      <td>1420</td>\n",
              "      <td>0.486468</td>\n",
              "    </tr>\n",
              "    <tr>\n",
              "      <th>LotFrontage</th>\n",
              "      <td>486</td>\n",
              "      <td>0.166495</td>\n",
              "    </tr>\n",
              "    <tr>\n",
              "      <th>GarageYrBlt</th>\n",
              "      <td>159</td>\n",
              "      <td>0.054471</td>\n",
              "    </tr>\n",
              "    <tr>\n",
              "      <th>GarageFinish</th>\n",
              "      <td>159</td>\n",
              "      <td>0.054471</td>\n",
              "    </tr>\n",
              "    <tr>\n",
              "      <th>GarageQual</th>\n",
              "      <td>159</td>\n",
              "      <td>0.054471</td>\n",
              "    </tr>\n",
              "    <tr>\n",
              "      <th>GarageCond</th>\n",
              "      <td>159</td>\n",
              "      <td>0.054471</td>\n",
              "    </tr>\n",
              "    <tr>\n",
              "      <th>GarageType</th>\n",
              "      <td>157</td>\n",
              "      <td>0.053786</td>\n",
              "    </tr>\n",
              "    <tr>\n",
              "      <th>BsmtExposure</th>\n",
              "      <td>82</td>\n",
              "      <td>0.028092</td>\n",
              "    </tr>\n",
              "    <tr>\n",
              "      <th>BsmtCond</th>\n",
              "      <td>82</td>\n",
              "      <td>0.028092</td>\n",
              "    </tr>\n",
              "    <tr>\n",
              "      <th>BsmtQual</th>\n",
              "      <td>81</td>\n",
              "      <td>0.027749</td>\n",
              "    </tr>\n",
              "    <tr>\n",
              "      <th>BsmtFinType2</th>\n",
              "      <td>80</td>\n",
              "      <td>0.027407</td>\n",
              "    </tr>\n",
              "    <tr>\n",
              "      <th>BsmtFinType1</th>\n",
              "      <td>79</td>\n",
              "      <td>0.027064</td>\n",
              "    </tr>\n",
              "    <tr>\n",
              "      <th>MasVnrType</th>\n",
              "      <td>24</td>\n",
              "      <td>0.008222</td>\n",
              "    </tr>\n",
              "    <tr>\n",
              "      <th>MasVnrArea</th>\n",
              "      <td>23</td>\n",
              "      <td>0.007879</td>\n",
              "    </tr>\n",
              "    <tr>\n",
              "      <th>MSZoning</th>\n",
              "      <td>4</td>\n",
              "      <td>0.001370</td>\n",
              "    </tr>\n",
              "    <tr>\n",
              "      <th>Functional</th>\n",
              "      <td>2</td>\n",
              "      <td>0.000685</td>\n",
              "    </tr>\n",
              "    <tr>\n",
              "      <th>BsmtHalfBath</th>\n",
              "      <td>2</td>\n",
              "      <td>0.000685</td>\n",
              "    </tr>\n",
              "    <tr>\n",
              "      <th>BsmtFullBath</th>\n",
              "      <td>2</td>\n",
              "      <td>0.000685</td>\n",
              "    </tr>\n",
              "    <tr>\n",
              "      <th>Utilities</th>\n",
              "      <td>2</td>\n",
              "      <td>0.000685</td>\n",
              "    </tr>\n",
              "    <tr>\n",
              "      <th>SaleType</th>\n",
              "      <td>1</td>\n",
              "      <td>0.000343</td>\n",
              "    </tr>\n",
              "    <tr>\n",
              "      <th>BsmtFinSF1</th>\n",
              "      <td>1</td>\n",
              "      <td>0.000343</td>\n",
              "    </tr>\n",
              "  </tbody>\n",
              "</table>\n",
              "</div>\n",
              "      <button class=\"colab-df-convert\" onclick=\"convertToInteractive('df-b4f65358-608a-4d99-b70f-735f90ace19c')\"\n",
              "              title=\"Convert this dataframe to an interactive table.\"\n",
              "              style=\"display:none;\">\n",
              "        \n",
              "  <svg xmlns=\"http://www.w3.org/2000/svg\" height=\"24px\"viewBox=\"0 0 24 24\"\n",
              "       width=\"24px\">\n",
              "    <path d=\"M0 0h24v24H0V0z\" fill=\"none\"/>\n",
              "    <path d=\"M18.56 5.44l.94 2.06.94-2.06 2.06-.94-2.06-.94-.94-2.06-.94 2.06-2.06.94zm-11 1L8.5 8.5l.94-2.06 2.06-.94-2.06-.94L8.5 2.5l-.94 2.06-2.06.94zm10 10l.94 2.06.94-2.06 2.06-.94-2.06-.94-.94-2.06-.94 2.06-2.06.94z\"/><path d=\"M17.41 7.96l-1.37-1.37c-.4-.4-.92-.59-1.43-.59-.52 0-1.04.2-1.43.59L10.3 9.45l-7.72 7.72c-.78.78-.78 2.05 0 2.83L4 21.41c.39.39.9.59 1.41.59.51 0 1.02-.2 1.41-.59l7.78-7.78 2.81-2.81c.8-.78.8-2.07 0-2.86zM5.41 20L4 18.59l7.72-7.72 1.47 1.35L5.41 20z\"/>\n",
              "  </svg>\n",
              "      </button>\n",
              "      \n",
              "  <style>\n",
              "    .colab-df-container {\n",
              "      display:flex;\n",
              "      flex-wrap:wrap;\n",
              "      gap: 12px;\n",
              "    }\n",
              "\n",
              "    .colab-df-convert {\n",
              "      background-color: #E8F0FE;\n",
              "      border: none;\n",
              "      border-radius: 50%;\n",
              "      cursor: pointer;\n",
              "      display: none;\n",
              "      fill: #1967D2;\n",
              "      height: 32px;\n",
              "      padding: 0 0 0 0;\n",
              "      width: 32px;\n",
              "    }\n",
              "\n",
              "    .colab-df-convert:hover {\n",
              "      background-color: #E2EBFA;\n",
              "      box-shadow: 0px 1px 2px rgba(60, 64, 67, 0.3), 0px 1px 3px 1px rgba(60, 64, 67, 0.15);\n",
              "      fill: #174EA6;\n",
              "    }\n",
              "\n",
              "    [theme=dark] .colab-df-convert {\n",
              "      background-color: #3B4455;\n",
              "      fill: #D2E3FC;\n",
              "    }\n",
              "\n",
              "    [theme=dark] .colab-df-convert:hover {\n",
              "      background-color: #434B5C;\n",
              "      box-shadow: 0px 1px 3px 1px rgba(0, 0, 0, 0.15);\n",
              "      filter: drop-shadow(0px 1px 2px rgba(0, 0, 0, 0.3));\n",
              "      fill: #FFFFFF;\n",
              "    }\n",
              "  </style>\n",
              "\n",
              "      <script>\n",
              "        const buttonEl =\n",
              "          document.querySelector('#df-b4f65358-608a-4d99-b70f-735f90ace19c button.colab-df-convert');\n",
              "        buttonEl.style.display =\n",
              "          google.colab.kernel.accessAllowed ? 'block' : 'none';\n",
              "\n",
              "        async function convertToInteractive(key) {\n",
              "          const element = document.querySelector('#df-b4f65358-608a-4d99-b70f-735f90ace19c');\n",
              "          const dataTable =\n",
              "            await google.colab.kernel.invokeFunction('convertToInteractive',\n",
              "                                                     [key], {});\n",
              "          if (!dataTable) return;\n",
              "\n",
              "          const docLinkHtml = 'Like what you see? Visit the ' +\n",
              "            '<a target=\"_blank\" href=https://colab.research.google.com/notebooks/data_table.ipynb>data table notebook</a>'\n",
              "            + ' to learn more about interactive tables.';\n",
              "          element.innerHTML = '';\n",
              "          dataTable['output_type'] = 'display_data';\n",
              "          await google.colab.output.renderOutput(dataTable, element);\n",
              "          const docLink = document.createElement('div');\n",
              "          docLink.innerHTML = docLinkHtml;\n",
              "          element.appendChild(docLink);\n",
              "        }\n",
              "      </script>\n",
              "    </div>\n",
              "  </div>\n",
              "  "
            ]
          },
          "metadata": {},
          "execution_count": 96
        }
      ]
    },
    {
      "cell_type": "markdown",
      "source": [
        "#####It can be observed that all the 'Garage' variables have the same number of missing values. They may come from the same distribution."
      ],
      "metadata": {
        "id": "gDGaNgCIKE4p"
      }
    },
    {
      "cell_type": "markdown",
      "source": [
        "##Visualizations"
      ],
      "metadata": {
        "id": "v27sXc3vND8V"
      }
    },
    {
      "cell_type": "code",
      "source": [
        "corrmat = df_train.corr()\n",
        "f, ax = plt.subplots(figsize=(12, 9))\n",
        "sns.heatmap(corrmat, vmax=.8, square=True);"
      ],
      "metadata": {
        "colab": {
          "base_uri": "https://localhost:8080/",
          "height": 607
        },
        "id": "6Q-HiOVOKciS",
        "outputId": "9d861ac2-2ab6-45fe-a436-7116107b36d8"
      },
      "execution_count": 97,
      "outputs": [
        {
          "output_type": "display_data",
          "data": {
            "text/plain": [
              "<Figure size 864x648 with 2 Axes>"
            ],
            "image/png": "[encoded data removed]"
          },
          "metadata": {
            "needs_background": "light"
          }
        }
      ]
    },
    {
      "cell_type": "markdown",
      "source": [
        "#####Also the Garage variables we earlier discovered are also highly correlated, confirming that they may be providing the same level of information"
      ],
      "metadata": {
        "id": "80gO7qVwNBGU"
      }
    },
    {
      "cell_type": "code",
      "source": [
        "sns.distplot(y_train)"
      ],
      "metadata": {
        "colab": {
          "base_uri": "https://localhost:8080/",
          "height": 307
        },
        "id": "Y-pI0qBRNi_6",
        "outputId": "77f6b4ce-69b9-4766-85a7-5623435ed41a"
      },
      "execution_count": 98,
      "outputs": [
        {
          "output_type": "execute_result",
          "data": {
            "text/plain": [
              "<matplotlib.axes._subplots.AxesSubplot at 0x7fa9ee611d10>"
            ]
          },
          "metadata": {},
          "execution_count": 98
        },
        {
          "output_type": "display_data",
          "data": {
            "text/plain": [
              "<Figure size 432x288 with 1 Axes>"
            ],
            "image/png": "[encoded data removed]"
          },
          "metadata": {
            "needs_background": "light"
          }
        }
      ]
    },
    {
      "cell_type": "markdown",
      "source": [
        "#####The distribution is skewed to the left"
      ],
      "metadata": {
        "id": "CQgzCWMEN9hH"
      }
    },
    {
      "cell_type": "markdown",
      "source": [
        "##Assumptions and whether the data is representative."
      ],
      "metadata": {
        "id": "-JCJ2UDxPhDL"
      }
    },
    {
      "cell_type": "markdown",
      "source": [
        "#####The data is representative for the problem according to the data population. However, we may have to make some assumptions:\n",
        "#####The data is quite old. The latest year a house was sold in is 2010. It is now 2022. Many things have changed since then, most notably, the value of the dollar. Adjusting for inflation will be necessary.\n",
        "#####Some of the zones the houses are listed in are agricultural, commercial, and industrial. I personally am not sure if houses are usually built in such areas especially industrial areas, but for the sake of this problem we will assume that houses are also built in these places."
      ],
      "metadata": {
        "id": "g_z9wN9oOUiE"
      }
    },
    {
      "cell_type": "code",
      "source": [
        "df_train['MSZoning'].value_counts().plot(kind='bar')"
      ],
      "metadata": {
        "colab": {
          "base_uri": "https://localhost:8080/",
          "height": 302
        },
        "id": "_Hvw7Y8jPevc",
        "outputId": "1168840e-b517-480f-8a31-5f2af8d425fa"
      },
      "execution_count": 99,
      "outputs": [
        {
          "output_type": "execute_result",
          "data": {
            "text/plain": [
              "<matplotlib.axes._subplots.AxesSubplot at 0x7fa9ee579c90>"
            ]
          },
          "metadata": {},
          "execution_count": 99
        },
        {
          "output_type": "display_data",
          "data": {
            "text/plain": [
              "<Figure size 432x288 with 1 Axes>"
            ],
            "image/png": "[encoded data removed]"
          },
          "metadata": {
            "needs_background": "light"
          }
        }
      ]
    },
    {
      "cell_type": "code",
      "source": [
        "df_train['Neighborhood'].value_counts().plot(kind='bar')"
      ],
      "metadata": {
        "colab": {
          "base_uri": "https://localhost:8080/",
          "height": 321
        },
        "id": "UcVcRmipP4aZ",
        "outputId": "9dc0d71a-1346-43d8-fc09-3f04ce5872cf"
      },
      "execution_count": 100,
      "outputs": [
        {
          "output_type": "execute_result",
          "data": {
            "text/plain": [
              "<matplotlib.axes._subplots.AxesSubplot at 0x7fa9ee496b90>"
            ]
          },
          "metadata": {},
          "execution_count": 100
        },
        {
          "output_type": "display_data",
          "data": {
            "text/plain": [
              "<Figure size 432x288 with 1 Axes>"
            ],
            "image/png": "[encoded data removed]"
          },
          "metadata": {
            "needs_background": "light"
          }
        }
      ]
    },
    {
      "cell_type": "markdown",
      "source": [
        "#####I guess that cluster sampling may have been used. Data may have been divided into clusters like : residential, industrial, outer areas etc. \n",
        "#####Addressing the comment from Stage1 : It might be stratified sampling. Observations are split by neighborhood and then a different sampling method is used to sample from each stratum.  "
      ],
      "metadata": {
        "id": "3Xw4_OKuQcMV"
      }
    },
    {
      "cell_type": "markdown",
      "source": [
        "#Stage 2"
      ],
      "metadata": {
        "id": "RR2Lx4ogo0FZ"
      }
    },
    {
      "cell_type": "markdown",
      "source": [
        "#####Picking up from where we last left off. In a prediction, we want to eliminate the most useless data as it will consume unnecessary resources. We also need clean data i.e. no missing or illogical values.\n",
        "#####In that respect, we can proceed by dropping variables like PoolQC and Alley. Additionally, the Garage variables all contribute the same information. The same applies to the Bsmt variables. MasVnrArea and MasVnrType as well, also they are quite correlated with OverallQual and YearBuilt variables."
      ],
      "metadata": {
        "id": "fIzFFI02o8xb"
      }
    },
    {
      "cell_type": "code",
      "source": [
        "df_train = df_train.drop((missing_data[missing_data['Total'] > 5]).index,1)"
      ],
      "metadata": {
        "id": "jGSfD55Do7qO"
      },
      "execution_count": 101,
      "outputs": []
    },
    {
      "cell_type": "markdown",
      "source": [
        "#####What are the features you choose to use for modeling? Why? Note: You may use EDA to show the reason. \n",
        "#####Ans : Based on the work I've shown earlier, the remaining features we have will be used in prediction, for the same reasons as stated above."
      ],
      "metadata": {
        "id": "WfIydOLSyS3u"
      }
    },
    {
      "cell_type": "code",
      "source": [
        "missing_data = df_train.isnull().sum().sort_values(ascending=False)\n",
        "missing_data.head(20)"
      ],
      "metadata": {
        "colab": {
          "base_uri": "https://localhost:8080/"
        },
        "id": "0Q56xnfkOPYC",
        "outputId": "f1722a10-a499-4b33-c7cd-428b3a0f3da8"
      },
      "execution_count": 102,
      "outputs": [
        {
          "output_type": "execute_result",
          "data": {
            "text/plain": [
              "MSZoning        4\n",
              "Functional      2\n",
              "BsmtFullBath    2\n",
              "BsmtHalfBath    2\n",
              "Utilities       2\n",
              "BsmtFinSF2      1\n",
              "Exterior2nd     1\n",
              "GarageCars      1\n",
              "GarageArea      1\n",
              "BsmtFinSF1      1\n",
              "BsmtUnfSF       1\n",
              "Exterior1st     1\n",
              "TotalBsmtSF     1\n",
              "Electrical      1\n",
              "SaleType        1\n",
              "KitchenQual     1\n",
              "HalfBath        0\n",
              "FullBath        0\n",
              "BedroomAbvGr    0\n",
              "KitchenAbvGr    0\n",
              "dtype: int64"
            ]
          },
          "metadata": {},
          "execution_count": 102
        }
      ]
    },
    {
      "cell_type": "code",
      "source": [
        "#we can impute data so starting with numerics \n",
        "numerics = ['BsmtFinSF1',\n",
        "                  'BsmtFinSF2',\n",
        "                  'BsmtUnfSF',\n",
        "                  'TotalBsmtSF',\n",
        "                  'BsmtFullBath',\n",
        "                  'BsmtHalfBath',\n",
        "                  'GarageArea',\n",
        "                  'GarageCars']"
      ],
      "metadata": {
        "id": "YDKfzSaHO0eT"
      },
      "execution_count": 103,
      "outputs": []
    },
    {
      "cell_type": "markdown",
      "source": [
        "#####So what I notice here is that the missing values are conveying some message. Looking at the basement-related variables, if they're all null then perhaps there isn't a basement? If GarageArea is null then GarageCars must also be null right? So imputing with 0 makes sense."
      ],
      "metadata": {
        "id": "q9XUrUgBPn0T"
      }
    },
    {
      "cell_type": "code",
      "source": [
        "for feature in numerics:\n",
        "    df_train[feature] = df_train[feature].fillna(0)"
      ],
      "metadata": {
        "id": "69uqsQ9_PQ45"
      },
      "execution_count": 104,
      "outputs": []
    },
    {
      "cell_type": "code",
      "source": [
        "#for categorical features I'm just going to impute them with the most frequent value i.e. mode\n",
        "categorical = ['Exterior1st',\n",
        "                  'Exterior2nd',\n",
        "                  'SaleType',\n",
        "                  'MSZoning',\n",
        "                   'Electrical',\n",
        "                     'KitchenQual',\n",
        "              'Functional']\n",
        "for feature in categorical:\n",
        "    df_train[feature] = df_train[feature].fillna(df_train[feature].mode()[0])              "
      ],
      "metadata": {
        "id": "dM5J8mGSPdSv"
      },
      "execution_count": 105,
      "outputs": []
    },
    {
      "cell_type": "code",
      "source": [
        "df_train.drop(['Utilities'], axis=1, inplace=True)"
      ],
      "metadata": {
        "id": "pJdDoyepQj7X"
      },
      "execution_count": 106,
      "outputs": []
    },
    {
      "cell_type": "code",
      "source": [
        "#Just double-checking if we have any missing values before we proceed with any transformations or scaling\n",
        "df_train.isnull().sum().max()"
      ],
      "metadata": {
        "colab": {
          "base_uri": "https://localhost:8080/"
        },
        "id": "IY7m7c7-xXWI",
        "outputId": "a54fcbdc-50e1-4f2b-fb9b-4b50c23e6167"
      },
      "execution_count": 107,
      "outputs": [
        {
          "output_type": "execute_result",
          "data": {
            "text/plain": [
              "0"
            ]
          },
          "metadata": {},
          "execution_count": 107
        }
      ]
    },
    {
      "cell_type": "markdown",
      "source": [
        "##Data transformations\n",
        "#####Normally, we'd like for our target variable to have a normal distribution (see what I did there? Haha! :D). Jokes aside, this is important since most statistic tests like the t-test' foundation is on data having a normal distribution."
      ],
      "metadata": {
        "id": "iSkiI4t4yB7V"
      }
    },
    {
      "cell_type": "code",
      "source": [
        "sns.distplot(y_train, fit=norm);\n",
        "fig = plt.figure()\n",
        "res = stats.probplot(y_train, plot=plt)"
      ],
      "metadata": {
        "colab": {
          "base_uri": "https://localhost:8080/",
          "height": 568
        },
        "id": "qb8TRWY2yD7f",
        "outputId": "bbc5782d-f0a7-42ed-ceff-f97cba5dfd9d"
      },
      "execution_count": 108,
      "outputs": [
        {
          "output_type": "display_data",
          "data": {
            "text/plain": [
              "<Figure size 432x288 with 1 Axes>"
            ],
            "image/png": "[encoded data removed]"
          },
          "metadata": {
            "needs_background": "light"
          }
        },
        {
          "output_type": "display_data",
          "data": {
            "text/plain": [
              "<Figure size 432x288 with 1 Axes>"
            ],
            "image/png": "[encoded data removed]"
          },
          "metadata": {
            "needs_background": "light"
          }
        }
      ]
    },
    {
      "cell_type": "markdown",
      "source": [
        "#####The data doesn't follow the diagonal line in the probability plot. That line represents the normal distribution. Ideally, we'd like for our data to fit this near perfectly. Looking back at our lectures, I recall the log transformation trick we were taught! Let's give that a shot."
      ],
      "metadata": {
        "id": "7x36S_Ct5AFX"
      }
    },
    {
      "cell_type": "code",
      "source": [
        "y_train = np.log1p(y_train)"
      ],
      "metadata": {
        "id": "Y2OdzpYq4-r8"
      },
      "execution_count": 109,
      "outputs": []
    },
    {
      "cell_type": "code",
      "source": [
        "sns.distplot(y_train, fit=norm);\n",
        "fig = plt.figure()\n",
        "res = stats.probplot(y_train, plot=plt)"
      ],
      "metadata": {
        "colab": {
          "base_uri": "https://localhost:8080/",
          "height": 557
        },
        "id": "JQEfVYeb5qov",
        "outputId": "a91ffae2-d6ec-4e59-d321-5d9d18f374af"
      },
      "execution_count": 110,
      "outputs": [
        {
          "output_type": "display_data",
          "data": {
            "text/plain": [
              "<Figure size 432x288 with 1 Axes>"
            ],
            "image/png": "[encoded data removed]"
          },
          "metadata": {
            "needs_background": "light"
          }
        },
        {
          "output_type": "display_data",
          "data": {
            "text/plain": [
              "<Figure size 432x288 with 1 Axes>"
            ],
            "image/png": "[encoded data removed]"
          },
          "metadata": {
            "needs_background": "light"
          }
        }
      ]
    },
    {
      "cell_type": "markdown",
      "source": [
        "#####Wizardry indeed. Might as well see if other variables suffer from the same problem!"
      ],
      "metadata": {
        "id": "YQA1Kp155vux"
      }
    },
    {
      "cell_type": "code",
      "source": [
        "from scipy.stats import skew\n",
        "numeric_feats = df_train.dtypes[df_train.dtypes != 'object'].index\n",
        "skewed_feats = df_train[numeric_feats].apply(lambda x: skew(x)).sort_values(ascending=False)\n",
        "high_skew = skewed_feats[abs(skewed_feats) > 0.5]\n",
        "high_skew"
      ],
      "metadata": {
        "colab": {
          "base_uri": "https://localhost:8080/"
        },
        "id": "krxerVjw5x1u",
        "outputId": "e861227e-87ef-44d8-dd41-387a481f0039"
      },
      "execution_count": 111,
      "outputs": [
        {
          "output_type": "execute_result",
          "data": {
            "text/plain": [
              "MiscVal          21.947195\n",
              "PoolArea         16.898328\n",
              "LotArea          12.822431\n",
              "LowQualFinSF     12.088761\n",
              "3SsnPorch        11.376065\n",
              "KitchenAbvGr      4.302254\n",
              "BsmtFinSF2        4.146143\n",
              "EnclosedPorch     4.003891\n",
              "ScreenPorch       3.946694\n",
              "BsmtHalfBath      3.931594\n",
              "OpenPorchSF       2.535114\n",
              "WoodDeckSF        1.842433\n",
              "1stFlrSF          1.469604\n",
              "BsmtFinSF1        1.425230\n",
              "MSSubClass        1.375457\n",
              "GrLivArea         1.269358\n",
              "TotalBsmtSF       1.156894\n",
              "BsmtUnfSF         0.919339\n",
              "2ndFlrSF          0.861675\n",
              "TotRmsAbvGrd      0.758367\n",
              "Fireplaces        0.733495\n",
              "HalfBath          0.694566\n",
              "BsmtFullBath      0.624832\n",
              "OverallCond       0.570312\n",
              "YearBuilt        -0.599806\n",
              "dtype: float64"
            ]
          },
          "metadata": {},
          "execution_count": 111
        }
      ]
    },
    {
      "cell_type": "code",
      "source": [
        "for feature in high_skew.index:\n",
        "  df_train[feature] = np.log1p(df_train[feature])"
      ],
      "metadata": {
        "id": "aocxqgSR6fen"
      },
      "execution_count": 112,
      "outputs": []
    },
    {
      "cell_type": "markdown",
      "source": [
        "##Readiness of the data\n",
        "#####Well we have a variety of variables, both continuous and categorical. We can't have both kinds. So I elect to convert the categorical variables into binary values by using one-hot encoding. A quick way to do that without the library function is to use Pandas' API's get_dummies function.\n",
        "#####Also, among the continuous variables, the ranges can vary wildly. Variables with higher values will directly play a bigger part in prediction, which is not what we want. Raw value doesn't determine a prediction. Other things like correlation matter. So it's ideal to scale all these continuous variables to fit the same range."
      ],
      "metadata": {
        "id": "ScT3ekH496a0"
      }
    },
    {
      "cell_type": "code",
      "source": [
        "df_train = pd.get_dummies(df_train) #one-hot encoding for categorical variables"
      ],
      "metadata": {
        "id": "faFBqY476AiG"
      },
      "execution_count": 113,
      "outputs": []
    },
    {
      "cell_type": "code",
      "source": [
        "x_train = df_train[:len(y_train)]\n",
        "x_test = df_train[len(y_train):]"
      ],
      "metadata": {
        "id": "bG8u7lB-lYtW"
      },
      "execution_count": 114,
      "outputs": []
    },
    {
      "cell_type": "code",
      "source": [
        "x_test.shape, x_train.shape"
      ],
      "metadata": {
        "colab": {
          "base_uri": "https://localhost:8080/"
        },
        "id": "cVKBVcfzR48S",
        "outputId": "0149016a-8c2c-4033-806f-db4b3d703ec4"
      },
      "execution_count": 115,
      "outputs": [
        {
          "output_type": "execute_result",
          "data": {
            "text/plain": [
              "((1459, 218), (1460, 218))"
            ]
          },
          "metadata": {},
          "execution_count": 115
        }
      ]
    },
    {
      "cell_type": "markdown",
      "source": [
        "##Modeling"
      ],
      "metadata": {
        "id": "b3x-AAYt4jY8"
      }
    },
    {
      "cell_type": "markdown",
      "source": [
        "#####Choosing a model and why\n",
        "#####Our target variable is a continuous one. In that regard, a regression model would be in order. For the sake of simplicity right now, I am going to pick scikit-learn's library linear regression model"
      ],
      "metadata": {
        "id": "biURWKxh4m7r"
      }
    },
    {
      "cell_type": "markdown",
      "source": [
        "####How the chosen features are involved? \n",
        "####We are going to perform linear regression with multiple variables. So our target variable SalePrice is going to be the result of a linear combination of the features plus a bias term (intercept c)"
      ],
      "metadata": {
        "id": "jV-YLlC5G4tc"
      }
    },
    {
      "cell_type": "markdown",
      "source": [
        "#####The loss function that is going to be used is the negative mean squared error.\n",
        "#####For parameter estimation we could just go ahead by loading the linear regression model from scikit-learn and just call its fit() function. "
      ],
      "metadata": {
        "id": "d9G1vOBYHv_A"
      }
    },
    {
      "cell_type": "code",
      "source": [
        "#choosing cross validation to get a better picture of the model's performance\n",
        "from sklearn.model_selection import cross_val_score\n",
        "from sklearn.linear_model import LinearRegression\n",
        "model = LinearRegression()\n",
        "scores = cross_val_score(model, x_train, y_train, scoring='neg_mean_squared_error', cv=5) #cv being used is stratified 5-fold cross validation"
      ],
      "metadata": {
        "id": "Ra7Q_Rf_6BIM"
      },
      "execution_count": 116,
      "outputs": []
    },
    {
      "cell_type": "code",
      "source": [
        "scores"
      ],
      "metadata": {
        "colab": {
          "base_uri": "https://localhost:8080/"
        },
        "id": "HZCu3g5bnh5Z",
        "outputId": "1819a4fd-c05a-4e1e-b68f-9a58d42dd687"
      },
      "execution_count": 117,
      "outputs": [
        {
          "output_type": "execute_result",
          "data": {
            "text/plain": [
              "array([-0.01293566, -0.02032788, -0.02106525, -0.01355797, -0.02481811])"
            ]
          },
          "metadata": {},
          "execution_count": 117
        }
      ]
    },
    {
      "cell_type": "code",
      "source": [
        "sum(scores)/5"
      ],
      "metadata": {
        "colab": {
          "base_uri": "https://localhost:8080/"
        },
        "id": "ih4XBDFZvv73",
        "outputId": "07331f54-6292-4351-f8a3-8b45340cc129"
      },
      "execution_count": 118,
      "outputs": [
        {
          "output_type": "execute_result",
          "data": {
            "text/plain": [
              "-0.018540974588961034"
            ]
          },
          "metadata": {},
          "execution_count": 118
        }
      ]
    },
    {
      "cell_type": "markdown",
      "source": [
        "#####The average error across the 5 folds is looking good. Now we can train the model on the entire train data"
      ],
      "metadata": {
        "id": "kW8qGjvbItsK"
      }
    },
    {
      "cell_type": "code",
      "source": [
        "model.fit(x_train, y_train)"
      ],
      "metadata": {
        "colab": {
          "base_uri": "https://localhost:8080/"
        },
        "id": "W0rk13OLI8Tv",
        "outputId": "98fc7fea-f5a8-4360-ab6b-794863aa4763"
      },
      "execution_count": 119,
      "outputs": [
        {
          "output_type": "execute_result",
          "data": {
            "text/plain": [
              "LinearRegression()"
            ]
          },
          "metadata": {},
          "execution_count": 119
        }
      ]
    },
    {
      "cell_type": "code",
      "source": [
        "#and now prediction!\n",
        "predictions = np.floor(np.expm1(model.predict(x_test))) #expm1 will calculate the exponential of all elements subtracting 1 from all the input elements, and floor will round off the value"
      ],
      "metadata": {
        "id": "ZLmoAmBEEu6v"
      },
      "execution_count": 120,
      "outputs": []
    },
    {
      "cell_type": "code",
      "source": [
        "submission = pd.DataFrame()\n",
        "submission['Id'] = test_id\n",
        "submission['SalePrice'] = predictions\n",
        "submission.to_csv('lin_reg_vanilla.csv', index=False)"
      ],
      "metadata": {
        "id": "W0do82GvGZL1"
      },
      "execution_count": 121,
      "outputs": []
    },
    {
      "cell_type": "code",
      "source": [
        "import matplotlib.image as mpimg\n",
        "img = mpimg.imread('first_submission.png')\n",
        "plt.imshow(img)"
      ],
      "metadata": {
        "id": "V3JGt1ePTDNN",
        "colab": {
          "base_uri": "https://localhost:8080/",
          "height": 111
        },
        "outputId": "c0d7eefb-2c7b-47fd-995c-b20d95e72fb3"
      },
      "execution_count": 122,
      "outputs": [
        {
          "output_type": "execute_result",
          "data": {
            "text/plain": [
              "<matplotlib.image.AxesImage at 0x7fa9fcddd850>"
            ]
          },
          "metadata": {},
          "execution_count": 122
        },
        {
          "output_type": "display_data",
          "data": {
            "text/plain": [
              "<Figure size 432x288 with 1 Axes>"
            ],
            "image/png": "[encoded data removed]"
          },
          "metadata": {
            "needs_background": "light"
          }
        }
      ]
    },
    {
      "cell_type": "markdown",
      "source": [
        "#Inference"
      ],
      "metadata": {
        "id": "nMkViW0QvOeO"
      }
    },
    {
      "cell_type": "markdown",
      "source": [
        "#####Now let's compare the performance of our model with that of a more complex model like XGBRegressor. 5-fold cross validation comparing the negative mean squared error averaged over 5 folds. Only the training data used earlier for cross validation for the linear regression model will be used here."
      ],
      "metadata": {
        "id": "eczzhqOwvUpk"
      }
    },
    {
      "cell_type": "code",
      "source": [
        "import xgboost\n",
        "xgbr = xgboost.XGBRegressor(objective='reg:squarederror', n_estimators = 10)\n",
        "scores_xgb = cross_val_score(xgbr, x_train, y_train, scoring='neg_mean_squared_error', cv=5)"
      ],
      "metadata": {
        "id": "QxcOCPzuurYi"
      },
      "execution_count": 123,
      "outputs": []
    },
    {
      "cell_type": "code",
      "source": [
        "scores_xgb"
      ],
      "metadata": {
        "colab": {
          "base_uri": "https://localhost:8080/"
        },
        "id": "VR8x8BmKwNWj",
        "outputId": "a1d3d352-0e99-4e82-8a5a-7b6c57faad32"
      },
      "execution_count": 124,
      "outputs": [
        {
          "output_type": "execute_result",
          "data": {
            "text/plain": [
              "array([-16.37906055, -16.30336103, -16.40902711, -16.02266185,\n",
              "       -16.35181863])"
            ]
          },
          "metadata": {},
          "execution_count": 124
        }
      ]
    },
    {
      "cell_type": "code",
      "source": [
        "sum(scores)/5, sum(scores_xgb)/5"
      ],
      "metadata": {
        "colab": {
          "base_uri": "https://localhost:8080/"
        },
        "id": "RXnrOn_1wTei",
        "outputId": "e3c2f247-fe95-4689-fcae-0915bbf96aed"
      },
      "execution_count": 125,
      "outputs": [
        {
          "output_type": "execute_result",
          "data": {
            "text/plain": [
              "(-0.018540974588961034, -16.293185834862285)"
            ]
          },
          "metadata": {},
          "execution_count": 125
        }
      ]
    },
    {
      "cell_type": "markdown",
      "source": [
        "#####Appears that XGBoost is overfitting to the data. More the estimators in an ensemble model like XGBoost, more complex it gets, and the more likely it is to overfit. Let's try not doing anything with the estimator number"
      ],
      "metadata": {
        "id": "fm073uP2xfB-"
      }
    },
    {
      "cell_type": "code",
      "source": [
        "xgbr = xgboost.XGBRegressor(objective='reg:squarederror')\n",
        "scores_xgb = cross_val_score(xgbr, x_train, y_train, scoring='neg_mean_squared_error', cv=5)"
      ],
      "metadata": {
        "id": "V3FV_fPZxtjR"
      },
      "execution_count": 126,
      "outputs": []
    },
    {
      "cell_type": "code",
      "source": [
        "scores_xgb"
      ],
      "metadata": {
        "colab": {
          "base_uri": "https://localhost:8080/"
        },
        "id": "EFA6Hnolx1I3",
        "outputId": "ed8efc12-5314-4df3-c4c4-d25b07908f30"
      },
      "execution_count": 127,
      "outputs": [
        {
          "output_type": "execute_result",
          "data": {
            "text/plain": [
              "array([-0.01390989, -0.02101956, -0.01773718, -0.01621247, -0.01760149])"
            ]
          },
          "metadata": {},
          "execution_count": 127
        }
      ]
    },
    {
      "cell_type": "code",
      "source": [
        "sum(scores)/5, sum(scores_xgb)/5"
      ],
      "metadata": {
        "colab": {
          "base_uri": "https://localhost:8080/"
        },
        "id": "08TqkbRsx2vN",
        "outputId": "2137de19-0cbf-4f00-a181-92f5582676b3"
      },
      "execution_count": 128,
      "outputs": [
        {
          "output_type": "execute_result",
          "data": {
            "text/plain": [
              "(-0.018540974588961034, -0.01729611753362447)"
            ]
          },
          "metadata": {},
          "execution_count": 128
        }
      ]
    },
    {
      "cell_type": "markdown",
      "source": [
        "#####Based off of just the values above, we can see that XGBRegressor has marginally less squared error. It's an improvement nonetheless but I don't think this particular task requires a complex model. Most likely to consume unnecessary resources and even overfit"
      ],
      "metadata": {
        "id": "jQCAFfbFwwvO"
      }
    },
    {
      "cell_type": "code",
      "source": [
        "#attempting another submission\n",
        "xgbr.fit(x_train, y_train)\n",
        "predictions = np.floor(np.expm1(xgbr.predict(x_test)))\n",
        "submission = pd.DataFrame()\n",
        "submission['Id'] = test_id\n",
        "submission['SalePrice'] = predictions\n",
        "submission.to_csv('xgbr_vanilla.csv', index=False)"
      ],
      "metadata": {
        "id": "0ON1JXFbwYWF"
      },
      "execution_count": 129,
      "outputs": []
    },
    {
      "cell_type": "code",
      "source": [
        "import matplotlib.image as mpimg\n",
        "img = mpimg.imread('second_submission.png')\n",
        "plt.imshow(img)"
      ],
      "metadata": {
        "colab": {
          "base_uri": "https://localhost:8080/",
          "height": 113
        },
        "id": "DxIyZAYIyN3w",
        "outputId": "4ca78e93-baa0-4f9c-caa9-49199c0ed628"
      },
      "execution_count": 130,
      "outputs": [
        {
          "output_type": "execute_result",
          "data": {
            "text/plain": [
              "<matplotlib.image.AxesImage at 0x7fa9f9f48dd0>"
            ]
          },
          "metadata": {},
          "execution_count": 130
        },
        {
          "output_type": "display_data",
          "data": {
            "text/plain": [
              "<Figure size 432x288 with 1 Axes>"
            ],
            "image/png": "[encoded data removed]"
          },
          "metadata": {
            "needs_background": "light"
          }
        }
      ]
    },
    {
      "cell_type": "markdown",
      "source": [
        "#####Looks like it didn't do better. My guess is that it overfit. Perhaps with hyperparameter tuning it can be improved."
      ],
      "metadata": {
        "id": "hkORlMwEzcaS"
      }
    },
    {
      "cell_type": "markdown",
      "source": [
        "#Conclusions and Learnings"
      ],
      "metadata": {
        "id": "cxgF2eRmzkXq"
      }
    },
    {
      "cell_type": "markdown",
      "source": [
        "#####From what I've done so far, most of the EDA explained the relationship between the target and the numerous features. Overall quality of a house and total living space (no-brainer) is a major factor in driving the price of a house. Dataset was relatively easy to clean, and there were clear relationships between features that could be understood just by analyzing the missing values and distributions."
      ],
      "metadata": {
        "id": "_v89JCnfzokS"
      }
    },
    {
      "cell_type": "markdown",
      "source": [
        "#####What I learned from this project is that not every problem requires a complex model to efficiently predict. And garbage in is garbage out. Loading a model and calling the fit() function is just the tip of the iceberg. Wrangling the data, making it ready for prediction, not to mention also formatting the output data is where the challenges lie. "
      ],
      "metadata": {
        "id": "CJaPuLc41IM3"
      }
    }
  ]
}